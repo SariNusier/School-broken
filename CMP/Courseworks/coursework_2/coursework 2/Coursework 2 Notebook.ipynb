{
 "cells": [
  {
   "cell_type": "markdown",
   "metadata": {},
   "source": [
    "### 7CCSMCMP (Computer Programming)\n",
    "# Coursework 2 \n",
    "# DUE ON KEATs BY SUNDAY 27th November 23:55\n",
    "\n",
    "This is the second programming assigment for this module.  \n",
    "\n",
    "- It is worth 5% of your final grade.  \n",
    "- Do your work for this assignment in the cells of this jupyter notebook.  You should be able to fit the code required for this assignment in this notebook.\n",
    "- This notebook comes with a ```data/``` directory that holds the assignment data for this exercise.\n",
    "- You must do ***your own work***, there is no ***collaborating*** allowed.\n",
    "- Make sure that you properly ```comment``` your code, so that the grader can understand what your program is doing.  ***Uncommented code will result in loss of marks!***"
   ]
  },
  {
   "cell_type": "markdown",
   "metadata": {},
   "source": [
    "## Your Details\n",
    "Edit this Markdown cell with:\n",
    "\n",
    "- *Sari Nusier*\n",
    "- *1317015*"
   ]
  },
  {
   "cell_type": "markdown",
   "metadata": {},
   "source": [
    "## Part 1 [55 points in total]\n",
    "\n",
    "In this exercise, you will be exploring flight delay data in the United States as provided by [US Department of Transportation](http://www.transtats.bts.gov/DL_SelectFields.asp?Table_ID=236&DB_Short_Name=On-Time).  \n",
    "\n",
    "In the data/ directory you will find the .csv file for September 2015 (```ontime_flights_sept2015.csv```). \n",
    "\n",
    "Name | Description\n",
    "--- | ---\n",
    "YEAR | 2015\n",
    "MONTH | 9\n",
    "DAY_OF_MONTH | 1-30\n",
    "DAY_OF_WEEK\t| 1 (Monday) - 7 (Sunday)\n",
    "UNIQUE_CARRIER | unique carrier code (see carriers.csv for look-up table)\n",
    "TAIL_NUM | plane tail number\n",
    "FL_NUM | flight number\n",
    "ORIGIN |origin IATA airport code (see airports.csv for look-up table)\n",
    "DEST | destination IATA airport code\n",
    "CRS_DEP_TIME | scheduled departure time (local, hhmm)\n",
    "DEP_TIME | actual departure time (local, hhmm)\n",
    "CRS_ARR_TIME | scheduled arrival time (local, hhmm)\n",
    "ARR_TIME | actual arrival time (local, hhmm)\n",
    "ARR_DELAY | arrival delay, in minutes\n",
    "CANCELLED | was the flight cancelled?\n",
    "CANCELLATION_CODE |reason for cancellation (A = carrier, B = weather, C = NAS, D = security)\n",
    "DIVERTED | 1 = yes, 0 = no\n",
    "CRS_ELAPSED_TIME | in minutes\n",
    "ACTUAL_ELAPSED_TIME\t| in minutes\n",
    "AIR_TIME | in minutes\n",
    "DISTANCE | in miles\n",
    "CARRIER_DELAY | in minutes\n",
    "WEATHER_DELAY | in minutes\n",
    "NAS_DELAY | in minutes\n",
    "SECURITY_DELAY | in minutes\n",
    "LATE_AIRCRAFT_DELAY | in minutes\n",
    "\n",
    "Answer each of the questions below, and include a short explanation for each answer or plot that you generate (use a Markdown cell to write your explanation).\n",
    "\n",
    "To get you started, the dataset is loaded into a Pandas DataFrame, and the columns are listed for you. (*Note*: ignore the last columns \"Unnamed: 26\", this is due to a dangling comma on every line\")"
   ]
  },
  {
   "cell_type": "code",
   "execution_count": 20,
   "metadata": {
    "collapsed": false
   },
   "outputs": [
    {
     "name": "stdout",
     "output_type": "stream",
     "text": [
      "Index([u'YEAR', u'MONTH', u'DAY_OF_MONTH', u'DAY_OF_WEEK', u'UNIQUE_CARRIER',\n",
      "       u'TAIL_NUM', u'FL_NUM', u'ORIGIN', u'DEST', u'CRS_DEP_TIME',\n",
      "       u'DEP_TIME', u'CRS_ARR_TIME', u'ARR_TIME', u'ARR_DELAY', u'CANCELLED',\n",
      "       u'CANCELLATION_CODE', u'DIVERTED', u'CRS_ELAPSED_TIME',\n",
      "       u'ACTUAL_ELAPSED_TIME', u'AIR_TIME', u'DISTANCE', u'CARRIER_DELAY',\n",
      "       u'WEATHER_DELAY', u'NAS_DELAY', u'SECURITY_DELAY',\n",
      "       u'LATE_AIRCRAFT_DELAY', u'Unnamed: 26'],\n",
      "      dtype='object')\n"
     ]
    }
   ],
   "source": [
    "%matplotlib inline\n",
    "import pandas as pd\n",
    "\n",
    "flights = pd.read_csv(\"data/ontime_flights_sept2015_full.csv\")\n",
    "print flights.columns"
   ]
  },
  {
   "cell_type": "markdown",
   "metadata": {},
   "source": [
    "**Question 1.1 [5 points]** How many flights where recorded in the month of September?"
   ]
  },
  {
   "cell_type": "code",
   "execution_count": 44,
   "metadata": {
    "collapsed": false
   },
   "outputs": [
    {
     "name": "stdout",
     "output_type": "stream",
     "text": [
      "464946\n"
     ]
    }
   ],
   "source": [
    "print len(flights[flights.MONTH == 9])"
   ]
  },
  {
   "cell_type": "markdown",
   "metadata": {},
   "source": [
    "**Question 1.2 [10 points]** In which direction do flights between JFK (New York City) and LAX (Los Angelos) take less time, JFK->LAX or LAX->JFK?  (Explain your calculations)\n",
    "\n",
    "**Question 1.3 [5 points]** On average, what is the difference in minutes between the two directions?"
   ]
  },
  {
   "cell_type": "code",
   "execution_count": 54,
   "metadata": {
    "collapsed": false
   },
   "outputs": [
    {
     "name": "stdout",
     "output_type": "stream",
     "text": [
      "LAX -> JFK CRS ELAPSED TIME:\n",
      "331.010978957\n",
      "JFK -> LAX CRS ELAPSED TIME:\n",
      "368.594693504\n",
      "LAX -> JFK ACTUAL ELAPSED TIME:\n",
      "321.642857143\n",
      "JFK -> LAX ACTUAL ELAPSED TIME:\n",
      "358.000914913\n",
      "Difference in minutes for CRS_ELAPSED_TIME:\n",
      "37.5837145471\n",
      "Difference in minutes for ACTUAL_ELAPSED_TIME:\n",
      "36.3580577702\n"
     ]
    }
   ],
   "source": [
    "lax_to_jfk_CRS = flights[(flights.ORIGIN == \"LAX\") & (flights.DEST == \"JFK\")].CRS_ELAPSED_TIME.mean()\n",
    "jfk_to_lax_CRS = flights[(flights.ORIGIN == \"JFK\") & (flights.DEST == \"LAX\")].CRS_ELAPSED_TIME.mean()\n",
    "lax_to_jfk_actual = flights[(flights.ORIGIN == \"LAX\") & (flights.DEST == \"JFK\")].ACTUAL_ELAPSED_TIME.mean()\n",
    "jfk_to_lax_actual = flights[(flights.ORIGIN == \"JFK\") & (flights.DEST == \"LAX\")].ACTUAL_ELAPSED_TIME.mean()\n",
    "\n",
    "\n",
    "print(\"LAX -> JFK CRS ELAPSED TIME:\")\n",
    "print lax_to_jfk_CRS\n",
    "print(\"JFK -> LAX CRS ELAPSED TIME:\")\n",
    "print jfk_to_lax_CRS\n",
    "\n",
    "print(\"LAX -> JFK ACTUAL ELAPSED TIME:\")\n",
    "print lax_to_jfk_actual\n",
    "print(\"JFK -> LAX ACTUAL ELAPSED TIME:\")\n",
    "print jfk_to_lax_actual\n",
    "\n",
    "#In both cases we can see that JFK to LAX takes longer than the other way around.\n",
    "\n",
    "print(\"Difference in minutes for CRS_ELAPSED_TIME:\")\n",
    "print(abs(lax_to_jfk_CRS - jfk_to_lax_CRS))\n",
    "\n",
    "print(\"Difference in minutes for ACTUAL_ELAPSED_TIME:\")\n",
    "print(abs(lax_to_jfk_actual - jfk_to_lax_actual))\n",
    "\n"
   ]
  },
  {
   "cell_type": "markdown",
   "metadata": {},
   "source": [
    "**Question 1.4 [10 points]** \n",
    "\n",
    "Plot the daily total weather delay for September.\n",
    "\n",
    "\n",
    "**Question 1.5 [5 points]** \n",
    "\n",
    "Based on your plot, which day in Sept. had the most weather delay?"
   ]
  },
  {
   "cell_type": "code",
   "execution_count": null,
   "metadata": {
    "collapsed": true
   },
   "outputs": [],
   "source": []
  },
  {
   "cell_type": "markdown",
   "metadata": {},
   "source": [
    "**Question 1.6 [10 points]** \n",
    "\n",
    "On a bar chart plot the airline carriers (UNIQUE_CARRIER's) by their average arrival delays, ordered from worse delay to the least.  *Ignore flights that arrive early (i.e. their ARR_DELAY is less than 0).*"
   ]
  },
  {
   "cell_type": "code",
   "execution_count": null,
   "metadata": {
    "collapsed": true
   },
   "outputs": [],
   "source": []
  },
  {
   "cell_type": "markdown",
   "metadata": {},
   "source": [
    "**Question 1.7 [10 points]** \n",
    "\n",
    "Create a histogram showing the arrival delays for Chicago (airport code 'ORD').\n",
    "\n",
    "- Include both early and late flights, ARR_DELAY will be positive and negative.\n",
    "- Set the domain for the histogram to show flights that are up to one hour early to flights that are 2 hours late.\n",
    "- Set the bin size for the flights to be 5 mins."
   ]
  },
  {
   "cell_type": "code",
   "execution_count": null,
   "metadata": {
    "collapsed": true
   },
   "outputs": [],
   "source": []
  },
  {
   "cell_type": "markdown",
   "metadata": {},
   "source": [
    "## Part 2 [20 points in total]\n",
    "\n",
    "This flight delay data can be used to estimate the arrival delay given a route and a day of the week, and we will leverage this data to create a booking recomender function. In this part the aim is to create a python function that will help when booking a flight by alerting if the selected route and day of the week is one that has had delays in the past.\n",
    "\n",
    "This will use the same dataframe used in Part 1 as a starting point, but will focus on the following columns: ORIGIN, DEST, DAY_OF_WEEK. In order to calculate delays use the ARR_DELAY column.\n",
    "\n",
    "Step 1: Calculate for each combination of origin airport code (ORIGIN), destination airport code (DEST) and day of the week (DAY_OF_WEEK) the median value of ARR_DELAY.\n",
    "\n",
    "Step 2: Use the results calculated to write a python function. This function should accept three arguments: origin, destination and dayofweek. The function should use these to evaluate whether the median arr_delay for the selected combination of the arguments is greater than 0. \n",
    "- If this is the case then it should return a recomandation not to fly. \n",
    "- If the median arr_delay for the selected combination is less than or equal to 0 then the recomandation returned should be to go ahead and book the flight."
   ]
  },
  {
   "cell_type": "markdown",
   "metadata": {},
   "source": [
    "Step 1: Calculate for Calculate for each combination of origin airport code (ORIGIN), destination airport code (DEST) and day of the week (DAY_OF_WEEK) the median value of ARR_DELAY."
   ]
  },
  {
   "cell_type": "code",
   "execution_count": null,
   "metadata": {
    "collapsed": true
   },
   "outputs": [],
   "source": []
  },
  {
   "cell_type": "markdown",
   "metadata": {},
   "source": [
    "Step 2:\n",
    "Use the results calculated in Step 1 to write a python function. This function should accept three arguments: origin, destination and dayofweek. The function should use these to evaluate whether the median arr_delay for the selected combination of the arguments is greater than 0. \n",
    "    \n",
    "    \n",
    "If this is the case then it should return a recomandation not to fly. \n",
    "If the median arr_delay for the selected combination is less than or equal to 0 then the recomandation returned should be to go ahead and book the flight.\n",
    "\n",
    "Write your function in the space below."
   ]
  },
  {
   "cell_type": "code",
   "execution_count": null,
   "metadata": {
    "collapsed": true
   },
   "outputs": [],
   "source": []
  },
  {
   "cell_type": "markdown",
   "metadata": {},
   "source": [
    "To fly or not to fly... from San Francisco to New York on a Thursday?\n",
    "\n",
    "Call the function you have defined in Step 2 with an origin airport code of SFO and destination of JFK and a day of the week equal to Thursday."
   ]
  },
  {
   "cell_type": "code",
   "execution_count": null,
   "metadata": {
    "collapsed": true
   },
   "outputs": [],
   "source": []
  },
  {
   "cell_type": "markdown",
   "metadata": {},
   "source": [
    "## Part 3 [25 points in total]\n",
    "\n",
    "\n",
    "Create an interactive ipythonwidget that allows the user make a selection of flights based on the following criteria:\n",
    "- select flights arriving at particular airport\n",
    "- select flights being conducted by a particular carrier\n",
    "- select flights being conducted by a particular carrier and arriving at a particular airport\n",
    "- select all flights (no airport and no carrier are selected).\n",
    "\n",
    "Use the [interact()](https://github.com/ipython/ipywidgets/blob/master/examples/notebooks/Using%20Interact.ipynb) function, as you have done before in order to provide a set of options of carrier and airport codes for the user to make a selections.  To get a set of airport codes and carrier codes, you may do one of the following:\n",
    "* manually select at least 10 airport codes and carrier codes from the data set\n",
    "* get the set of airport codes and carrier codes from the flight data (create a ```set()``` from the appropriate columns in the ```flights``` Pandas DataFrame).\n",
    "* csv files containing the carrier and airport codes are provided in the data/ directory\n",
    "\n",
    "Using that selection of flights, plot two histograms side-by-side:\n",
    "- The histogram on the left shows the arrival delays for flights scheduled to arrive in the morning, 4:00am (0400 hours) to 12pm (1200 hours)\n",
    "- The histogram on the right shows the arrival delays for flights scheduled to arrive in the afternoon and evening, 12pm (1200 hours) to 4:00am (2359 hours, 0000 hours to 0400 hours)\n",
    "(*Hint*: use [pd.concat](http://pandas.pydata.org/pandas-docs/stable/merging.html) to concatenate pandas dataframe for different arrival time selections).\n",
    "\n",
    "Use the same parameters for the histogram as in the previous questions, that is:\n",
    "- show flights that arrive up to one hour early to flights that arrive up to 2 hours late\n",
    "- bin size of 5 minutes\n",
    "- also set the y-axis to show the same y-limits so that you can compare both histograms to each other"
   ]
  },
  {
   "cell_type": "code",
   "execution_count": null,
   "metadata": {
    "collapsed": true
   },
   "outputs": [],
   "source": []
  },
  {
   "cell_type": "markdown",
   "metadata": {},
   "source": [
    "# THIS ASSIGNMENT IS DUE ON KEATs BY\n",
    "# SUNDAY 27th NOVEMBER 23:55\n",
    "\n",
    "### Turn in the following\n",
    "\n",
    "* Submit your completed Jupyter Notebook ***ONLY*** in the Coursework 2 Submission under **Coursework 2** on KEATs.  There is no need to re-upload the flight data.\n",
    "* You should not require adding any additional data for this assignment, the grader will use the same data/ that is provided to you to test your code.\n",
    "\n",
    "\n",
    "### Point Breakdown (Worth 5% of your course grade)\n",
    "\n",
    "Question | Points\n",
    "--- | ---\n",
    "Part 1 Question 1.1 |   5 points\n",
    "Part 1 Question 1.2 |  10 points\n",
    "Part 1 Question 1.3 | 5 points\n",
    "Part 1 Question 1.4 |  10 points\n",
    "Part 1 Question 1.5 | 10 points\n",
    "Part 1 Question 1.6 |  5 points\n",
    "Part 1 Question 1.7 | 10 points\n",
    "Part 2 | 20 points\n",
    "Part 3 | 25 points\n",
    "**Total Number of Points** | 100 points\n",
    "\n",
    "\n"
   ]
  },
  {
   "cell_type": "code",
   "execution_count": null,
   "metadata": {
    "collapsed": true
   },
   "outputs": [],
   "source": []
  }
 ],
 "metadata": {
  "anaconda-cloud": {},
  "kernelspec": {
   "display_name": "Python [default]",
   "language": "python",
   "name": "python2"
  },
  "language_info": {
   "codemirror_mode": {
    "name": "ipython",
    "version": 2
   },
   "file_extension": ".py",
   "mimetype": "text/x-python",
   "name": "python",
   "nbconvert_exporter": "python",
   "pygments_lexer": "ipython2",
   "version": "2.7.12"
  }
 },
 "nbformat": 4,
 "nbformat_minor": 0
}
