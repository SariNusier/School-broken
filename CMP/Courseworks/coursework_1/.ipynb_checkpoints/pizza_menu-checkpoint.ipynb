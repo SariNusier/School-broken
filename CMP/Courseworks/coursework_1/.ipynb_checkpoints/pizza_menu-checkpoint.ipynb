{
 "cells": [
  {
   "cell_type": "code",
   "execution_count": 1,
   "metadata": {
    "collapsed": true
   },
   "outputs": [],
   "source": [
    "import xml.etree.ElementTree as et"
   ]
  },
  {
   "cell_type": "code",
   "execution_count": 2,
   "metadata": {
    "collapsed": false
   },
   "outputs": [
    {
     "name": "stdout",
     "output_type": "stream",
     "text": [
      "# Chipp's Pizza Shop\n",
      "\n",
      "## Sizes\n",
      "- Large\n",
      "- Extra Large\n",
      "\n",
      "## Toppings\n",
      "- Extra Cheese\n",
      "- Mushrooms\n",
      "- Sari\n",
      "\n",
      "## Crusts\n",
      "- Thick Crust\n",
      "- Thin Crust\n"
     ]
    }
   ],
   "source": [
    "try:\n",
    "    # reading file and setting root of xml tree\n",
    "    tree = et.ElementTree(file='data/pizza.xml')\n",
    "    root = tree.getroot()\n",
    "    \n",
    "    # printing shop name\n",
    "    print(\"# %s\\n\"%root.find(\"shopname\").text)\n",
    "\n",
    "    # printing sizes\n",
    "    print(\"## Sizes\")\n",
    "    for size in root.find(\"sizes\"):\n",
    "        print(\"- %s\"%size.text)\n",
    "        \n",
    "    # printing toppings\n",
    "    print(\"\\n## Toppings\")\n",
    "    for topping in root.find(\"toppings\"):\n",
    "        print(\"- %s\"%topping.text)\n",
    "    \n",
    "    # printing crusts\n",
    "    print(\"\\n## Crusts\")\n",
    "    for crust in root.find(\"crusts\"):\n",
    "        print(\"- %s\"%crust.text)\n",
    "        \n",
    "except IOError as ioe:\n",
    "    print(\"I/O Error: %s\" % ioe)"
   ]
  },
  {
   "cell_type": "raw",
   "metadata": {
    "collapsed": false,
    "scrolled": true
   },
   "source": []
  },
  {
   "cell_type": "code",
   "execution_count": null,
   "metadata": {
    "collapsed": true
   },
   "outputs": [],
   "source": []
  }
 ],
 "metadata": {
  "anaconda-cloud": {},
  "kernelspec": {
   "display_name": "Python [default]",
   "language": "python",
   "name": "python2"
  },
  "language_info": {
   "codemirror_mode": {
    "name": "ipython",
    "version": 2
   },
   "file_extension": ".py",
   "mimetype": "text/x-python",
   "name": "python",
   "nbconvert_exporter": "python",
   "pygments_lexer": "ipython2",
   "version": "2.7.12"
  }
 },
 "nbformat": 4,
 "nbformat_minor": 1
}
