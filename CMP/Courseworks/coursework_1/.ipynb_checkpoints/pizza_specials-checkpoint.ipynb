{
 "cells": [
  {
   "cell_type": "code",
   "execution_count": 1,
   "metadata": {
    "collapsed": true
   },
   "outputs": [],
   "source": [
    "import xml.etree.ElementTree as et\n",
    "import csv"
   ]
  },
  {
   "cell_type": "code",
   "execution_count": null,
   "metadata": {
    "collapsed": true
   },
   "outputs": [],
   "source": []
  },
  {
   "cell_type": "code",
   "execution_count": null,
   "metadata": {
    "collapsed": true
   },
   "outputs": [],
   "source": []
  },
  {
   "cell_type": "code",
   "execution_count": 2,
   "metadata": {
    "collapsed": true
   },
   "outputs": [],
   "source": [
    "def getChildByTag(tag, root):\n",
    "    for child in root:\n",
    "        if child.tag == tag:\n",
    "            return child\n",
    "        \n",
    "        \n",
    "def formatStringToPrint(name, size, toppings, crust):\n",
    "    \n",
    "    return \"%s: %s with %s and %s\"%(name, size, toppings, crust)\n",
    "\n",
    "\n",
    "def getToppings(toppingCodes, toppingString):\n",
    "    toppings = []\n",
    "    for c in range(0, len(toppingString)):\n",
    "        toppings.append(toppingCodes[toppingString[c]])\n",
    "    return toppings"
   ]
  },
  {
   "cell_type": "code",
   "execution_count": 8,
   "metadata": {
    "collapsed": false
   },
   "outputs": [
    {
     "name": "stdout",
     "output_type": "stream",
     "text": [
      "Supreme\n",
      "Simple Cheese\n"
     ]
    }
   ],
   "source": [
    "# Reading the file\n",
    "try:\n",
    "    tree = et.ElementTree(file='data/pizza.xml')\n",
    "    root = tree.getroot()\n",
    "    sizeCodes = {}\n",
    "    toppingCodes = {}\n",
    "    crustCodes = {}\n",
    "    \n",
    "    for size in getChildByTag(\"sizes\", root):\n",
    "        sizeCodes[size.attrib[\"code\"]] = size.text\n",
    "    #print(sizeCodes)\n",
    "    \n",
    "    for topping in getChildByTag(\"toppings\", root):\n",
    "        toppingCodes[topping.attrib[\"code\"]] = topping.text\n",
    "    #print(toppingCodes)\n",
    "    \n",
    "    for crust in getChildByTag(\"crusts\", root):\n",
    "        crustCodes[crust.attrib[\"code\"]] = crust.text\n",
    "        \n",
    "    with open(\"data/pizza_specials.csv\", \"r\") as csvFile:\n",
    "        csvSpecials = csv.DictReader(csvFile)\n",
    "        for special in csvSpecials:\n",
    "            formatStringToPrint(special[\"name\"],\n",
    "                               sizeCodes[special[\"size\"]],\n",
    "                               getToppings(toppingCodes, special[\"toppings\"]),\n",
    "                               crustCodes[special[\"crust\"]])\n",
    "            \n",
    "except IOError as ioe:\n",
    "    print(\"I/O Error: %s\" % ioe)"
   ]
  },
  {
   "cell_type": "code",
   "execution_count": null,
   "metadata": {
    "collapsed": true
   },
   "outputs": [],
   "source": []
  }
 ],
 "metadata": {
  "kernelspec": {
   "display_name": "Python [default]",
   "language": "python",
   "name": "python2"
  },
  "language_info": {
   "codemirror_mode": {
    "name": "ipython",
    "version": 2
   },
   "file_extension": ".py",
   "mimetype": "text/x-python",
   "name": "python",
   "nbconvert_exporter": "python",
   "pygments_lexer": "ipython2",
   "version": "2.7.12"
  }
 },
 "nbformat": 4,
 "nbformat_minor": 1
}
