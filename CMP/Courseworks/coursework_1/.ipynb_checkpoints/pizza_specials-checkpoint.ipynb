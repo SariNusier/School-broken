{
 "cells": [
  {
   "cell_type": "code",
   "execution_count": 1,
   "metadata": {
    "collapsed": true
   },
   "outputs": [],
   "source": [
    "import xml.etree.ElementTree as et\n",
    "import csv"
   ]
  },
  {
   "cell_type": "code",
   "execution_count": 2,
   "metadata": {
    "collapsed": true
   },
   "outputs": [],
   "source": [
    "# helper function that builds the string to be written into pizza_specials.txt\n",
    "def formatStringToPrint(name, size, toppings, crust):    \n",
    "    \n",
    "    # string that will contain all the toppings separated by an and\n",
    "    allToppings = \"\"\n",
    "    \n",
    "    # adding toppings to allToppings\n",
    "    for topping in toppings:\n",
    "        allToppings += topping + \" and \"\n",
    "        \n",
    "    #returning the formatted string\n",
    "    return \"%s: %s Pizza with %s%s\"%(name, size, allToppings, crust)\n",
    "\n",
    "\n",
    "# this is a helper function that translates the toppings code into the corresponding names\n",
    "def getToppings(toppingCodes, toppingString):\n",
    "    toppings = []\n",
    "    \n",
    "    # getting name character by character and appending to the array of names\n",
    "    for c in range(0, len(toppingString)):\n",
    "        toppings.append(toppingCodes[toppingString[c]])\n",
    "    return toppings"
   ]
  },
  {
   "cell_type": "code",
   "execution_count": 3,
   "metadata": {
    "collapsed": false
   },
   "outputs": [],
   "source": [
    "try:\n",
    "    # reading file and setting root of xml tree\n",
    "    tree = et.ElementTree(file='data/pizza.xml')\n",
    "    root = tree.getroot()\n",
    "    \n",
    "    # declaring the dictionaries to store the code and text pairs\n",
    "    sizeCodes = {}\n",
    "    toppingCodes = {}\n",
    "    crustCodes = {}\n",
    "    \n",
    "    # getting sizes\n",
    "    for size in root.find(\"sizes\"):\n",
    "        sizeCodes[size.attrib[\"code\"]] = size.text\n",
    "    \n",
    "    # getting toppings\n",
    "    for topping in root.find(\"toppings\"):\n",
    "        toppingCodes[topping.attrib[\"code\"]] = topping.text\n",
    "    \n",
    "    # getting crusts\n",
    "    for crust in root.find(\"crusts\"):\n",
    "        crustCodes[crust.attrib[\"code\"]] = crust.text\n",
    "    \n",
    "    # reading the specials\n",
    "    with open(\"data/pizza_specials.csv\", \"r\") as csvFile:\n",
    "        csvSpecials = csv.DictReader(csvFile)\n",
    "        \n",
    "        # writing the specials to file.  \n",
    "        # PLEASE SEE formatStringToPrint()\n",
    "        with open(\"data/pizza_specials.txt\", \"w\") as outputFile:\n",
    "            for special in csvSpecials:\n",
    "                outputFile.write(formatStringToPrint(special[\"name\"],\n",
    "                                   sizeCodes[special[\"size\"]],\n",
    "                                   getToppings(toppingCodes, special[\"toppings\"]),\n",
    "                                   crustCodes[special[\"crust\"]])+\"\\n\")\n",
    "            \n",
    "except IOError as ioe:\n",
    "    print(\"I/O Error: %s\" % ioe)"
   ]
  },
  {
   "cell_type": "code",
   "execution_count": null,
   "metadata": {
    "collapsed": true
   },
   "outputs": [],
   "source": []
  }
 ],
 "metadata": {
  "kernelspec": {
   "display_name": "Python [default]",
   "language": "python",
   "name": "python2"
  },
  "language_info": {
   "codemirror_mode": {
    "name": "ipython",
    "version": 2
   },
   "file_extension": ".py",
   "mimetype": "text/x-python",
   "name": "python",
   "nbconvert_exporter": "python",
   "pygments_lexer": "ipython2",
   "version": "2.7.12"
  }
 },
 "nbformat": 4,
 "nbformat_minor": 1
}
