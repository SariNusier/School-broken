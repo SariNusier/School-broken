{
 "cells": [
  {
   "cell_type": "code",
   "execution_count": 1,
   "metadata": {
    "collapsed": true
   },
   "outputs": [],
   "source": [
    "import xml.etree.ElementTree as et\n",
    "import csv"
   ]
  },
  {
   "cell_type": "code",
   "execution_count": 2,
   "metadata": {
    "collapsed": false
   },
   "outputs": [],
   "source": [
    "try:\n",
    "    # reading file and setting root of xml tree\n",
    "    tree = et.ElementTree(file='data/pizza.xml')\n",
    "    root = tree.getroot()\n",
    "    \n",
    "    # totals are stored into a dictionary\n",
    "    result = {}\n",
    "    \n",
    "    # number of sizes available\n",
    "    result[\"sizes\"] = len(root.find(\"sizes\"))   \n",
    "    \n",
    "    # number of toppings available\n",
    "    result[\"toppings\"] = len(root.find(\"toppings\")) \n",
    "    \n",
    "    # number of crusts available\n",
    "    result[\"crusts\"] = len(root.find(\"crusts\")) \n",
    "    \n",
    "    # number of possible pizzas\n",
    "    result[\"total_combo\"] = result[\"sizes\"]*(2**result[\"toppings\"])*result[\"crusts\"]\n",
    "    \n",
    "    # writing the results into the csv file\n",
    "    with open(\"data/pizza_report.csv\", \"w\") as csvFile:\n",
    "        writer = csv.DictWriter(csvFile, fieldnames=['sizes','toppings','crusts','total_combo'])\n",
    "        writer.writeheader()\n",
    "        writer.writerow(result)\n",
    "except IOError as ioe:\n",
    "    print(\"I/O Error: %s\" % ioe)"
   ]
  },
  {
   "cell_type": "code",
   "execution_count": null,
   "metadata": {
    "collapsed": true
   },
   "outputs": [],
   "source": []
  }
 ],
 "metadata": {
  "kernelspec": {
   "display_name": "Python [default]",
   "language": "python",
   "name": "python2"
  },
  "language_info": {
   "codemirror_mode": {
    "name": "ipython",
    "version": 2
   },
   "file_extension": ".py",
   "mimetype": "text/x-python",
   "name": "python",
   "nbconvert_exporter": "python",
   "pygments_lexer": "ipython2",
   "version": "2.7.12"
  }
 },
 "nbformat": 4,
 "nbformat_minor": 1
}
