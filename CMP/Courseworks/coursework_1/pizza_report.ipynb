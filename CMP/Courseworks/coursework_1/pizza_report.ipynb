{
 "cells": [
  {
   "cell_type": "code",
   "execution_count": 1,
   "metadata": {
    "collapsed": true
   },
   "outputs": [],
   "source": [
    "import xml.etree.ElementTree as et\n",
    "import csv"
   ]
  },
  {
   "cell_type": "code",
   "execution_count": null,
   "metadata": {
    "collapsed": true
   },
   "outputs": [],
   "source": []
  },
  {
   "cell_type": "code",
   "execution_count": null,
   "metadata": {
    "collapsed": true
   },
   "outputs": [],
   "source": []
  },
  {
   "cell_type": "code",
   "execution_count": 2,
   "metadata": {
    "collapsed": true
   },
   "outputs": [],
   "source": [
    "def getChildByTag(tag, root):\n",
    "    for child in root:\n",
    "        if child.tag == tag:\n",
    "            return child"
   ]
  },
  {
   "cell_type": "code",
   "execution_count": 3,
   "metadata": {
    "collapsed": false
   },
   "outputs": [
    {
     "name": "stdout",
     "output_type": "stream",
     "text": [
      "['toppings', 'total_combo', 'crusts', 'sizes']\n"
     ]
    }
   ],
   "source": [
    "# Reading the file\n",
    "try:\n",
    "    tree = et.ElementTree(file='data/pizza.xml')\n",
    "    root = tree.getroot()\n",
    "    result = {}\n",
    "    \n",
    "    result[\"sizes\"] = len(getChildByTag(\"sizes\", root))   \n",
    "    result[\"toppings\"] = len(getChildByTag(\"toppings\", root)) \n",
    "    result[\"crusts\"] = len(getChildByTag(\"crusts\", root)) \n",
    "    result[\"total_combo\"] = result[\"sizes\"]*(2**result[\"toppings\"])*result[\"crusts\"]\n",
    "    print(result.keys())\n",
    "    with open(\"data/pizza_report.csv\", \"w\") as csvFile:\n",
    "        writer = csv.DictWriter(csvFile, fieldnames=['sizes','toppings','crusts','total_combo'])\n",
    "        writer.writeheader()\n",
    "        writer.writerow(result)\n",
    "except IOError as ioe:\n",
    "    print(\"I/O Error: %s\" % ioe)"
   ]
  },
  {
   "cell_type": "code",
   "execution_count": null,
   "metadata": {
    "collapsed": true
   },
   "outputs": [],
   "source": []
  }
 ],
 "metadata": {
  "kernelspec": {
   "display_name": "Python [default]",
   "language": "python",
   "name": "python2"
  },
  "language_info": {
   "codemirror_mode": {
    "name": "ipython",
    "version": 2
   },
   "file_extension": ".py",
   "mimetype": "text/x-python",
   "name": "python",
   "nbconvert_exporter": "python",
   "pygments_lexer": "ipython2",
   "version": "2.7.12"
  }
 },
 "nbformat": 4,
 "nbformat_minor": 1
}
