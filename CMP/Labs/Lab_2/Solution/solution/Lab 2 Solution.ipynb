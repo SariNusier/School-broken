{
 "cells": [
  {
   "cell_type": "markdown",
   "metadata": {},
   "source": [
    "# Part 1 Reading CSV Files with csv.reader\n",
    "#### 1a-b).  Keep your imports at the top of your notebook"
   ]
  },
  {
   "cell_type": "code",
   "execution_count": 3,
   "metadata": {
    "collapsed": true
   },
   "outputs": [],
   "source": [
    "import csv"
   ]
  },
  {
   "cell_type": "markdown",
   "metadata": {},
   "source": [
    "#### 1c). Open the \"movies.csv\" file with `csv.reader`"
   ]
  },
  {
   "cell_type": "code",
   "execution_count": 12,
   "metadata": {
    "collapsed": false,
    "scrolled": false
   },
   "outputs": [
    {
     "ename": "IOError",
     "evalue": "[Errno 2] No such file or directory: 'movies.csv'",
     "output_type": "error",
     "traceback": [
      "\u001b[0;31m---------------------------------------------------------------------------\u001b[0m",
      "\u001b[0;31mIOError\u001b[0m                                   Traceback (most recent call last)",
      "\u001b[0;32m<ipython-input-12-2f683f3426aa>\u001b[0m in \u001b[0;36m<module>\u001b[0;34m()\u001b[0m\n\u001b[0;32m----> 1\u001b[0;31m \u001b[0;32mwith\u001b[0m \u001b[0mopen\u001b[0m\u001b[0;34m(\u001b[0m\u001b[0;34m\"movies.csv\"\u001b[0m\u001b[0;34m,\u001b[0m \u001b[0;34m\"r\"\u001b[0m\u001b[0;34m)\u001b[0m \u001b[0;32mas\u001b[0m \u001b[0mmovies_fd\u001b[0m\u001b[0;34m:\u001b[0m \u001b[0;31m# open a file context\u001b[0m\u001b[0;34m\u001b[0m\u001b[0m\n\u001b[0m\u001b[1;32m      2\u001b[0m     \u001b[0mcsv_data\u001b[0m \u001b[0;34m=\u001b[0m \u001b[0mcsv\u001b[0m\u001b[0;34m.\u001b[0m\u001b[0mreader\u001b[0m\u001b[0;34m(\u001b[0m\u001b[0mmovies_fd\u001b[0m\u001b[0;34m)\u001b[0m\u001b[0;34m\u001b[0m\u001b[0m\n\u001b[1;32m      3\u001b[0m     \u001b[0mmovies\u001b[0m \u001b[0;34m=\u001b[0m \u001b[0mlist\u001b[0m\u001b[0;34m(\u001b[0m\u001b[0mcsv_data\u001b[0m\u001b[0;34m)\u001b[0m \u001b[0;31m# converts the *iterator* into a list\u001b[0m\u001b[0;34m\u001b[0m\u001b[0m\n",
      "\u001b[0;31mIOError\u001b[0m: [Errno 2] No such file or directory: 'movies.csv'"
     ]
    }
   ],
   "source": [
    "with open(\"movies.csv\", \"r\") as movies_fd: # open a file context\n",
    "    csv_data = csv.reader(movies_fd)\n",
    "    movies = list(csv_data) # converts the *iterator* into a list"
   ]
  },
  {
   "cell_type": "markdown",
   "metadata": {},
   "source": [
    "#### 1d-e.)  Fix the IOError, and unpack the data.zip "
   ]
  },
  {
   "cell_type": "code",
   "execution_count": 13,
   "metadata": {
    "collapsed": false
   },
   "outputs": [],
   "source": [
    "try:\n",
    "    with open(\"data/movies.csv\", \"r\") as movies_fd: # open a file context\n",
    "        csv_data = csv.reader(movies_fd)\n",
    "        movies = list(csv_data) # converts the *iterator* into a list\n",
    "except IOError as ioe:\n",
    "    print(\"I/O Error occurred: %s\" % ioe)"
   ]
  },
  {
   "cell_type": "markdown",
   "metadata": {},
   "source": [
    "#### 1f) Print the movies list"
   ]
  },
  {
   "cell_type": "code",
   "execution_count": 14,
   "metadata": {
    "collapsed": false,
    "scrolled": true
   },
   "outputs": [
    {
     "name": "stdout",
     "output_type": "stream",
     "text": [
      "[['Title', 'Year', 'Rated', 'Released', 'Runtime', 'Genre', 'Director', 'Writers', 'Actors', 'Plot', 'Language', 'Country', 'Awards', 'Poster', 'Metascore', 'imdbRating', 'imdbVotes', 'imdbID', 'Type', 'Response'], ['Casablanca', '1942', 'PG', '23-Jan-43', '102 min', 'Drama, Romance, War', 'Michael Curtiz', 'Julius J. Epstein (screenplay), Philip G. Epstein (screenplay), Howard Koch (screenplay), Murray Burnett (play), Joan Alison (play)', 'Humphrey Bogart, Ingrid Bergman, Paul Henreid, Claude Rains', 'Set in Casablanca, Morocco during the early days of World War II: An American expatriate meets a former lover, with unforeseen complications.', 'English, French, German, Italian', 'USA', 'Won 3 Oscars. Another 6 wins & 6 nominations.', 'http://ia.media-imdb.com/images/M/MV5BMjQwNDYyNTk2N15BMl5BanBnXkFtZTgwMjQ0OTMyMjE@._V1_SX300.jpg', 'N/A', '8.6', '357332', 'tt0034583', 'movie', 'TRUE'], ['The Big Sleep', '1946', 'APPROVED', '31-Aug-46', '114 min', 'Crime, Film-Noir, Mystery', 'Howard Hawks', 'William Faulkner (screen play), Leigh Brackett (screen play), Jules Furthman (screen play), Raymond Chandler (from the novel by)', 'Humphrey Bogart, Lauren Bacall, John Ridgely, Martha Vickers', \"Private detective Philip Marlowe is hired by a rich family. Before the complex case is over, he's seen murder, blackmail, and what might be love.\", 'English', 'USA', '1 win.', 'http://ia.media-imdb.com/images/M/MV5BNjg5MjM5MzY5M15BMl5BanBnXkFtZTgwNjg3MzgyMjE@._V1_SX300.jpg', 'N/A', '8.1', '60776', 'tt0038355', 'movie', 'TRUE'], ['The African Queen', '1951', 'PG', '20-Feb-52', '105 min', 'Adventure, Romance, War', 'John Huston', 'C.S. Forester (novel), James Agee (adapted for the screen by), John Huston (adapted for the screen by)', 'Humphrey Bogart, Katharine Hepburn, Robert Morley, Peter Bull', 'In Africa during WWI, a gin-swilling riverboat captain is persuaded by a strait-laced missionary to use his boat to attack an enemy warship.', 'English, German, Swahili', 'USA, UK', 'Won 1 Oscar. Another 5 wins & 6 nominations.', 'http://ia.media-imdb.com/images/M/MV5BOTg0NjY1NTEyMF5BMl5BanBnXkFtZTgwNjUwMTY3MjE@._V1_SX300.jpg', 'N/A', '7.9', '55484', 'tt0043265', 'movie', 'TRUE']]\n"
     ]
    }
   ],
   "source": [
    "print movies "
   ]
  },
  {
   "cell_type": "markdown",
   "metadata": {},
   "source": [
    "#### 1g-h) Print the Movies (use list *slicing* to access only the data rows in the movies list)"
   ]
  },
  {
   "cell_type": "code",
   "execution_count": 15,
   "metadata": {
    "collapsed": false
   },
   "outputs": [
    {
     "name": "stdout",
     "output_type": "stream",
     "text": [
      "- Casablanca (1942)\n",
      "  Directed by: Michael Curtiz\n",
      "  Starring: Humphrey Bogart, Ingrid Bergman, Paul Henreid, Claude Rains\n",
      "  Plot: Set in Casablanca, Morocco during the early days of World War II: An American expatriate meets a former lover, with unforeseen complications.\n",
      "- The Big Sleep (1946)\n",
      "  Directed by: Howard Hawks\n",
      "  Starring: Humphrey Bogart, Lauren Bacall, John Ridgely, Martha Vickers\n",
      "  Plot: Private detective Philip Marlowe is hired by a rich family. Before the complex case is over, he's seen murder, blackmail, and what might be love.\n",
      "- The African Queen (1951)\n",
      "  Directed by: John Huston\n",
      "  Starring: Humphrey Bogart, Katharine Hepburn, Robert Morley, Peter Bull\n",
      "  Plot: In Africa during WWI, a gin-swilling riverboat captain is persuaded by a strait-laced missionary to use his boat to attack an enemy warship.\n"
     ]
    }
   ],
   "source": [
    "for row in movies[1:]:\n",
    "    print(\"- %s (%s)\" % (row[0], row[1]))\n",
    "    print(\"  Directed by: %s\" % row[6])\n",
    "    print(\"  Starring: %s\" % row[8])\n",
    "    print(\"  Plot: %s\" % row[9])"
   ]
  },
  {
   "cell_type": "markdown",
   "metadata": {},
   "source": [
    "#### 1i) Compute the *number of records*"
   ]
  },
  {
   "cell_type": "code",
   "execution_count": 16,
   "metadata": {
    "collapsed": false,
    "scrolled": false
   },
   "outputs": [
    {
     "name": "stdout",
     "output_type": "stream",
     "text": [
      "Total number of movies: 3\n"
     ]
    }
   ],
   "source": [
    "# Notice the use of array (list) slicing with [1:]\n",
    "print(\"Total number of movies: %s\" % len(movies[1:]))"
   ]
  },
  {
   "cell_type": "markdown",
   "metadata": {},
   "source": [
    "## Part 1 Challenge\n",
    "#### Convert the list of lists into a list of dicts (dictionaries)"
   ]
  },
  {
   "cell_type": "code",
   "execution_count": 21,
   "metadata": {
    "collapsed": false
   },
   "outputs": [
    {
     "data": {
      "text/plain": [
       "[{'Actors': 'Humphrey Bogart, Ingrid Bergman, Paul Henreid, Claude Rains',\n",
       "  'Awards': 'Won 3 Oscars. Another 6 wins & 6 nominations.',\n",
       "  'Country': 'USA',\n",
       "  'Director': 'Michael Curtiz',\n",
       "  'Genre': 'Drama, Romance, War',\n",
       "  'Language': 'English, French, German, Italian',\n",
       "  'Metascore': 'N/A',\n",
       "  'Plot': 'Set in Casablanca, Morocco during the early days of World War II: An American expatriate meets a former lover, with unforeseen complications.',\n",
       "  'Poster': 'http://ia.media-imdb.com/images/M/MV5BMjQwNDYyNTk2N15BMl5BanBnXkFtZTgwMjQ0OTMyMjE@._V1_SX300.jpg',\n",
       "  'Rated': 'PG',\n",
       "  'Released': '23-Jan-43',\n",
       "  'Response': 'TRUE',\n",
       "  'Runtime': '102 min',\n",
       "  'Title': 'Casablanca',\n",
       "  'Type': 'movie',\n",
       "  'Writers': 'Julius J. Epstein (screenplay), Philip G. Epstein (screenplay), Howard Koch (screenplay), Murray Burnett (play), Joan Alison (play)',\n",
       "  'Year': '1942',\n",
       "  'imdbID': 'tt0034583',\n",
       "  'imdbRating': '8.6',\n",
       "  'imdbVotes': '357332'},\n",
       " {'Actors': 'Humphrey Bogart, Lauren Bacall, John Ridgely, Martha Vickers',\n",
       "  'Awards': '1 win.',\n",
       "  'Country': 'USA',\n",
       "  'Director': 'Howard Hawks',\n",
       "  'Genre': 'Crime, Film-Noir, Mystery',\n",
       "  'Language': 'English',\n",
       "  'Metascore': 'N/A',\n",
       "  'Plot': \"Private detective Philip Marlowe is hired by a rich family. Before the complex case is over, he's seen murder, blackmail, and what might be love.\",\n",
       "  'Poster': 'http://ia.media-imdb.com/images/M/MV5BNjg5MjM5MzY5M15BMl5BanBnXkFtZTgwNjg3MzgyMjE@._V1_SX300.jpg',\n",
       "  'Rated': 'APPROVED',\n",
       "  'Released': '31-Aug-46',\n",
       "  'Response': 'TRUE',\n",
       "  'Runtime': '114 min',\n",
       "  'Title': 'The Big Sleep',\n",
       "  'Type': 'movie',\n",
       "  'Writers': 'William Faulkner (screen play), Leigh Brackett (screen play), Jules Furthman (screen play), Raymond Chandler (from the novel by)',\n",
       "  'Year': '1946',\n",
       "  'imdbID': 'tt0038355',\n",
       "  'imdbRating': '8.1',\n",
       "  'imdbVotes': '60776'},\n",
       " {'Actors': 'Humphrey Bogart, Katharine Hepburn, Robert Morley, Peter Bull',\n",
       "  'Awards': 'Won 1 Oscar. Another 5 wins & 6 nominations.',\n",
       "  'Country': 'USA, UK',\n",
       "  'Director': 'John Huston',\n",
       "  'Genre': 'Adventure, Romance, War',\n",
       "  'Language': 'English, German, Swahili',\n",
       "  'Metascore': 'N/A',\n",
       "  'Plot': 'In Africa during WWI, a gin-swilling riverboat captain is persuaded by a strait-laced missionary to use his boat to attack an enemy warship.',\n",
       "  'Poster': 'http://ia.media-imdb.com/images/M/MV5BOTg0NjY1NTEyMF5BMl5BanBnXkFtZTgwNjUwMTY3MjE@._V1_SX300.jpg',\n",
       "  'Rated': 'PG',\n",
       "  'Released': '20-Feb-52',\n",
       "  'Response': 'TRUE',\n",
       "  'Runtime': '105 min',\n",
       "  'Title': 'The African Queen',\n",
       "  'Type': 'movie',\n",
       "  'Writers': 'C.S. Forester (novel), James Agee (adapted for the screen by), John Huston (adapted for the screen by)',\n",
       "  'Year': '1951',\n",
       "  'imdbID': 'tt0043265',\n",
       "  'imdbRating': '7.9',\n",
       "  'imdbVotes': '55484'}]"
      ]
     },
     "execution_count": 21,
     "metadata": {},
     "output_type": "execute_result"
    }
   ],
   "source": [
    "# Get the header\n",
    "movie_header = movies[0]\n",
    "\n",
    "# Define a new array to load dictionaries into\n",
    "movie_as_dicts = [] \n",
    "\n",
    "# Iterate over the movie rows (skipping the header)\n",
    "for m in movies[1:]:\n",
    "    # Use list indexing to pack a dictionary with the columns\n",
    "    row_dict = {}\n",
    "    for i in range(len(m)):\n",
    "        row_dict[movie_header[i]] = m[i]\n",
    "    # Append the new row dictionary to movie_as_dict\n",
    "    movie_as_dicts.append(row_dict)\n",
    "\n",
    "# Display results\n",
    "movie_as_dicts"
   ]
  },
  {
   "cell_type": "markdown",
   "metadata": {},
   "source": [
    "#### Here is the equivalent, but more *pythonic* with List Comprehensions"
   ]
  },
  {
   "cell_type": "code",
   "execution_count": 27,
   "metadata": {
    "collapsed": false
   },
   "outputs": [
    {
     "name": "stdout",
     "output_type": "stream",
     "text": [
      "[('Title', 'Casablanca'), ('Year', '1942'), ('Rated', 'PG'), ('Released', '23-Jan-43'), ('Runtime', '102 min'), ('Genre', 'Drama, Romance, War'), ('Director', 'Michael Curtiz'), ('Writers', 'Julius J. Epstein (screenplay), Philip G. Epstein (screenplay), Howard Koch (screenplay), Murray Burnett (play), Joan Alison (play)'), ('Actors', 'Humphrey Bogart, Ingrid Bergman, Paul Henreid, Claude Rains'), ('Plot', 'Set in Casablanca, Morocco during the early days of World War II: An American expatriate meets a former lover, with unforeseen complications.'), ('Language', 'English, French, German, Italian'), ('Country', 'USA'), ('Awards', 'Won 3 Oscars. Another 6 wins & 6 nominations.'), ('Poster', 'http://ia.media-imdb.com/images/M/MV5BMjQwNDYyNTk2N15BMl5BanBnXkFtZTgwMjQ0OTMyMjE@._V1_SX300.jpg'), ('Metascore', 'N/A'), ('imdbRating', '8.6'), ('imdbVotes', '357332'), ('imdbID', 'tt0034583'), ('Type', 'movie'), ('Response', 'TRUE')]\n"
     ]
    },
    {
     "data": {
      "text/plain": [
       "[{'Actors': 'Humphrey Bogart, Ingrid Bergman, Paul Henreid, Claude Rains',\n",
       "  'Awards': 'Won 3 Oscars. Another 6 wins & 6 nominations.',\n",
       "  'Country': 'USA',\n",
       "  'Director': 'Michael Curtiz',\n",
       "  'Genre': 'Drama, Romance, War',\n",
       "  'Language': 'English, French, German, Italian',\n",
       "  'Metascore': 'N/A',\n",
       "  'Plot': 'Set in Casablanca, Morocco during the early days of World War II: An American expatriate meets a former lover, with unforeseen complications.',\n",
       "  'Poster': 'http://ia.media-imdb.com/images/M/MV5BMjQwNDYyNTk2N15BMl5BanBnXkFtZTgwMjQ0OTMyMjE@._V1_SX300.jpg',\n",
       "  'Rated': 'PG',\n",
       "  'Released': '23-Jan-43',\n",
       "  'Response': 'TRUE',\n",
       "  'Runtime': '102 min',\n",
       "  'Title': 'Casablanca',\n",
       "  'Type': 'movie',\n",
       "  'Writers': 'Julius J. Epstein (screenplay), Philip G. Epstein (screenplay), Howard Koch (screenplay), Murray Burnett (play), Joan Alison (play)',\n",
       "  'Year': '1942',\n",
       "  'imdbID': 'tt0034583',\n",
       "  'imdbRating': '8.6',\n",
       "  'imdbVotes': '357332'},\n",
       " {'Actors': 'Humphrey Bogart, Lauren Bacall, John Ridgely, Martha Vickers',\n",
       "  'Awards': '1 win.',\n",
       "  'Country': 'USA',\n",
       "  'Director': 'Howard Hawks',\n",
       "  'Genre': 'Crime, Film-Noir, Mystery',\n",
       "  'Language': 'English',\n",
       "  'Metascore': 'N/A',\n",
       "  'Plot': \"Private detective Philip Marlowe is hired by a rich family. Before the complex case is over, he's seen murder, blackmail, and what might be love.\",\n",
       "  'Poster': 'http://ia.media-imdb.com/images/M/MV5BNjg5MjM5MzY5M15BMl5BanBnXkFtZTgwNjg3MzgyMjE@._V1_SX300.jpg',\n",
       "  'Rated': 'APPROVED',\n",
       "  'Released': '31-Aug-46',\n",
       "  'Response': 'TRUE',\n",
       "  'Runtime': '114 min',\n",
       "  'Title': 'The Big Sleep',\n",
       "  'Type': 'movie',\n",
       "  'Writers': 'William Faulkner (screen play), Leigh Brackett (screen play), Jules Furthman (screen play), Raymond Chandler (from the novel by)',\n",
       "  'Year': '1946',\n",
       "  'imdbID': 'tt0038355',\n",
       "  'imdbRating': '8.1',\n",
       "  'imdbVotes': '60776'},\n",
       " {'Actors': 'Humphrey Bogart, Katharine Hepburn, Robert Morley, Peter Bull',\n",
       "  'Awards': 'Won 1 Oscar. Another 5 wins & 6 nominations.',\n",
       "  'Country': 'USA, UK',\n",
       "  'Director': 'John Huston',\n",
       "  'Genre': 'Adventure, Romance, War',\n",
       "  'Language': 'English, German, Swahili',\n",
       "  'Metascore': 'N/A',\n",
       "  'Plot': 'In Africa during WWI, a gin-swilling riverboat captain is persuaded by a strait-laced missionary to use his boat to attack an enemy warship.',\n",
       "  'Poster': 'http://ia.media-imdb.com/images/M/MV5BOTg0NjY1NTEyMF5BMl5BanBnXkFtZTgwNjUwMTY3MjE@._V1_SX300.jpg',\n",
       "  'Rated': 'PG',\n",
       "  'Released': '20-Feb-52',\n",
       "  'Response': 'TRUE',\n",
       "  'Runtime': '105 min',\n",
       "  'Title': 'The African Queen',\n",
       "  'Type': 'movie',\n",
       "  'Writers': 'C.S. Forester (novel), James Agee (adapted for the screen by), John Huston (adapted for the screen by)',\n",
       "  'Year': '1951',\n",
       "  'imdbID': 'tt0043265',\n",
       "  'imdbRating': '7.9',\n",
       "  'imdbVotes': '55484'}]"
      ]
     },
     "execution_count": 27,
     "metadata": {},
     "output_type": "execute_result"
    }
   ],
   "source": [
    "# Use a list comprehension over the movie rows (i.e. movies[1:])\n",
    "# - m is a row of values, and movies[0] is the header row\n",
    "# - zip() pairs each header column name and column value as tuples\n",
    "# - dict takes a list of (key, value) tuples and converts to a dictionary\n",
    "movie_as_dicts = [dict(zip(movies[0],m)) for m in movies[1:]] \n",
    "\n",
    "# Display the results\n",
    "movie_as_dicts"
   ]
  },
  {
   "cell_type": "code",
   "execution_count": 28,
   "metadata": {
    "collapsed": false,
    "scrolled": true
   },
   "outputs": [
    {
     "name": "stdout",
     "output_type": "stream",
     "text": [
      "[('Title', 'Casablanca'), ('Year', '1942'), ('Rated', 'PG'), ('Released', '23-Jan-43'), ('Runtime', '102 min'), ('Genre', 'Drama, Romance, War'), ('Director', 'Michael Curtiz'), ('Writers', 'Julius J. Epstein (screenplay), Philip G. Epstein (screenplay), Howard Koch (screenplay), Murray Burnett (play), Joan Alison (play)'), ('Actors', 'Humphrey Bogart, Ingrid Bergman, Paul Henreid, Claude Rains'), ('Plot', 'Set in Casablanca, Morocco during the early days of World War II: An American expatriate meets a former lover, with unforeseen complications.'), ('Language', 'English, French, German, Italian'), ('Country', 'USA'), ('Awards', 'Won 3 Oscars. Another 6 wins & 6 nominations.'), ('Poster', 'http://ia.media-imdb.com/images/M/MV5BMjQwNDYyNTk2N15BMl5BanBnXkFtZTgwMjQ0OTMyMjE@._V1_SX300.jpg'), ('Metascore', 'N/A'), ('imdbRating', '8.6'), ('imdbVotes', '357332'), ('imdbID', 'tt0034583'), ('Type', 'movie'), ('Response', 'TRUE')]\n"
     ]
    }
   ],
   "source": [
    "# Example, here's the zip for the first row of the movies values\n",
    "print zip(movies[0],movies[1])"
   ]
  },
  {
   "cell_type": "code",
   "execution_count": 29,
   "metadata": {
    "collapsed": false
   },
   "outputs": [
    {
     "name": "stdout",
     "output_type": "stream",
     "text": [
      "{'Plot': 'Set in Casablanca, Morocco during the early days of World War II: An American expatriate meets a former lover, with unforeseen complications.', 'Rated': 'PG', 'Response': 'TRUE', 'Language': 'English, French, German, Italian', 'Title': 'Casablanca', 'Country': 'USA', 'Metascore': 'N/A', 'imdbRating': '8.6', 'Director': 'Michael Curtiz', 'Released': '23-Jan-43', 'Writers': 'Julius J. Epstein (screenplay), Philip G. Epstein (screenplay), Howard Koch (screenplay), Murray Burnett (play), Joan Alison (play)', 'Actors': 'Humphrey Bogart, Ingrid Bergman, Paul Henreid, Claude Rains', 'Year': '1942', 'Genre': 'Drama, Romance, War', 'Awards': 'Won 3 Oscars. Another 6 wins & 6 nominations.', 'Runtime': '102 min', 'Type': 'movie', 'Poster': 'http://ia.media-imdb.com/images/M/MV5BMjQwNDYyNTk2N15BMl5BanBnXkFtZTgwMjQ0OTMyMjE@._V1_SX300.jpg', 'imdbVotes': '357332', 'imdbID': 'tt0034583'}\n"
     ]
    }
   ],
   "source": [
    "# Example, here's that zip from the previous cell converted to a dict\n",
    "print dict(zip(movies[0],movies[1]))"
   ]
  },
  {
   "cell_type": "markdown",
   "metadata": {},
   "source": [
    "# Part 2 Reading CSV Files with csv.DictReader\n",
    "#### 2a) Use the csv.DictReader with the `fieldnames` arguement. \n",
    "*Note that you can use the header row, or type it in from the .CSV file.*"
   ]
  },
  {
   "cell_type": "code",
   "execution_count": 37,
   "metadata": {
    "collapsed": false
   },
   "outputs": [
    {
     "data": {
      "text/plain": [
       "['Title',\n",
       " 'Year',\n",
       " 'Rated',\n",
       " 'Released',\n",
       " 'Runtime',\n",
       " 'Genre',\n",
       " 'Director',\n",
       " 'Writers',\n",
       " 'Actors',\n",
       " 'Plot',\n",
       " 'Language',\n",
       " 'Country',\n",
       " 'Awards',\n",
       " 'Poster',\n",
       " 'Metascore',\n",
       " 'imdbRating',\n",
       " 'imdbVotes',\n",
       " 'imdbID',\n",
       " 'Type',\n",
       " 'Response']"
      ]
     },
     "execution_count": 37,
     "metadata": {},
     "output_type": "execute_result"
    }
   ],
   "source": [
    "movie_fieldnames = movies[0]\n",
    "movie_fieldnames"
   ]
  },
  {
   "cell_type": "markdown",
   "metadata": {},
   "source": [
    "#### First use csv.DictReader with `fieldnames`"
   ]
  },
  {
   "cell_type": "code",
   "execution_count": 41,
   "metadata": {
    "collapsed": false
   },
   "outputs": [],
   "source": [
    "try:\n",
    "    with open(\"data/movies.csv\", \"r\") as movies_fd: # open a file context\n",
    "        csv_data = csv.DictReader(movies_fd, fieldnames=movie_fieldnames)\n",
    "        movies = list(csv_data) # converts the *iterator* into a list\n",
    "except IOError as ioe:\n",
    "    print(\"I/O Error occurred: %s\" % ioe)"
   ]
  },
  {
   "cell_type": "code",
   "execution_count": 42,
   "metadata": {
    "collapsed": false
   },
   "outputs": [
    {
     "data": {
      "text/plain": [
       "[{'Actors': 'Actors',\n",
       "  'Awards': 'Awards',\n",
       "  'Country': 'Country',\n",
       "  'Director': 'Director',\n",
       "  'Genre': 'Genre',\n",
       "  'Language': 'Language',\n",
       "  'Metascore': 'Metascore',\n",
       "  'Plot': 'Plot',\n",
       "  'Poster': 'Poster',\n",
       "  'Rated': 'Rated',\n",
       "  'Released': 'Released',\n",
       "  'Response': 'Response',\n",
       "  'Runtime': 'Runtime',\n",
       "  'Title': 'Title',\n",
       "  'Type': 'Type',\n",
       "  'Writers': 'Writers',\n",
       "  'Year': 'Year',\n",
       "  'imdbID': 'imdbID',\n",
       "  'imdbRating': 'imdbRating',\n",
       "  'imdbVotes': 'imdbVotes'},\n",
       " {'Actors': 'Humphrey Bogart, Ingrid Bergman, Paul Henreid, Claude Rains',\n",
       "  'Awards': 'Won 3 Oscars. Another 6 wins & 6 nominations.',\n",
       "  'Country': 'USA',\n",
       "  'Director': 'Michael Curtiz',\n",
       "  'Genre': 'Drama, Romance, War',\n",
       "  'Language': 'English, French, German, Italian',\n",
       "  'Metascore': 'N/A',\n",
       "  'Plot': 'Set in Casablanca, Morocco during the early days of World War II: An American expatriate meets a former lover, with unforeseen complications.',\n",
       "  'Poster': 'http://ia.media-imdb.com/images/M/MV5BMjQwNDYyNTk2N15BMl5BanBnXkFtZTgwMjQ0OTMyMjE@._V1_SX300.jpg',\n",
       "  'Rated': 'PG',\n",
       "  'Released': '23-Jan-43',\n",
       "  'Response': 'TRUE',\n",
       "  'Runtime': '102 min',\n",
       "  'Title': 'Casablanca',\n",
       "  'Type': 'movie',\n",
       "  'Writers': 'Julius J. Epstein (screenplay), Philip G. Epstein (screenplay), Howard Koch (screenplay), Murray Burnett (play), Joan Alison (play)',\n",
       "  'Year': '1942',\n",
       "  'imdbID': 'tt0034583',\n",
       "  'imdbRating': '8.6',\n",
       "  'imdbVotes': '357332'},\n",
       " {'Actors': 'Humphrey Bogart, Lauren Bacall, John Ridgely, Martha Vickers',\n",
       "  'Awards': '1 win.',\n",
       "  'Country': 'USA',\n",
       "  'Director': 'Howard Hawks',\n",
       "  'Genre': 'Crime, Film-Noir, Mystery',\n",
       "  'Language': 'English',\n",
       "  'Metascore': 'N/A',\n",
       "  'Plot': \"Private detective Philip Marlowe is hired by a rich family. Before the complex case is over, he's seen murder, blackmail, and what might be love.\",\n",
       "  'Poster': 'http://ia.media-imdb.com/images/M/MV5BNjg5MjM5MzY5M15BMl5BanBnXkFtZTgwNjg3MzgyMjE@._V1_SX300.jpg',\n",
       "  'Rated': 'APPROVED',\n",
       "  'Released': '31-Aug-46',\n",
       "  'Response': 'TRUE',\n",
       "  'Runtime': '114 min',\n",
       "  'Title': 'The Big Sleep',\n",
       "  'Type': 'movie',\n",
       "  'Writers': 'William Faulkner (screen play), Leigh Brackett (screen play), Jules Furthman (screen play), Raymond Chandler (from the novel by)',\n",
       "  'Year': '1946',\n",
       "  'imdbID': 'tt0038355',\n",
       "  'imdbRating': '8.1',\n",
       "  'imdbVotes': '60776'},\n",
       " {'Actors': 'Humphrey Bogart, Katharine Hepburn, Robert Morley, Peter Bull',\n",
       "  'Awards': 'Won 1 Oscar. Another 5 wins & 6 nominations.',\n",
       "  'Country': 'USA, UK',\n",
       "  'Director': 'John Huston',\n",
       "  'Genre': 'Adventure, Romance, War',\n",
       "  'Language': 'English, German, Swahili',\n",
       "  'Metascore': 'N/A',\n",
       "  'Plot': 'In Africa during WWI, a gin-swilling riverboat captain is persuaded by a strait-laced missionary to use his boat to attack an enemy warship.',\n",
       "  'Poster': 'http://ia.media-imdb.com/images/M/MV5BOTg0NjY1NTEyMF5BMl5BanBnXkFtZTgwNjUwMTY3MjE@._V1_SX300.jpg',\n",
       "  'Rated': 'PG',\n",
       "  'Released': '20-Feb-52',\n",
       "  'Response': 'TRUE',\n",
       "  'Runtime': '105 min',\n",
       "  'Title': 'The African Queen',\n",
       "  'Type': 'movie',\n",
       "  'Writers': 'C.S. Forester (novel), James Agee (adapted for the screen by), John Huston (adapted for the screen by)',\n",
       "  'Year': '1951',\n",
       "  'imdbID': 'tt0043265',\n",
       "  'imdbRating': '7.9',\n",
       "  'imdbVotes': '55484'}]"
      ]
     },
     "execution_count": 42,
     "metadata": {},
     "output_type": "execute_result"
    }
   ],
   "source": [
    "# Notice that the first row contains the header names\n",
    "movies"
   ]
  },
  {
   "cell_type": "markdown",
   "metadata": {},
   "source": [
    "#### 2b) Use the for-loop to iterate over the data records\n",
    "*Notive that the first record is the Header row*"
   ]
  },
  {
   "cell_type": "code",
   "execution_count": 44,
   "metadata": {
    "collapsed": false
   },
   "outputs": [
    {
     "name": "stdout",
     "output_type": "stream",
     "text": [
      "Title (Year)\n",
      "Directed by: Director\n",
      "Starring: Actors\n",
      "Plot: Plot\n",
      "Casablanca (1942)\n",
      "Directed by: Michael Curtiz\n",
      "Starring: Humphrey Bogart, Ingrid Bergman, Paul Henreid, Claude Rains\n",
      "Plot: Set in Casablanca, Morocco during the early days of World War II: An American expatriate meets a former lover, with unforeseen complications.\n",
      "The Big Sleep (1946)\n",
      "Directed by: Howard Hawks\n",
      "Starring: Humphrey Bogart, Lauren Bacall, John Ridgely, Martha Vickers\n",
      "Plot: Private detective Philip Marlowe is hired by a rich family. Before the complex case is over, he's seen murder, blackmail, and what might be love.\n",
      "The African Queen (1951)\n",
      "Directed by: John Huston\n",
      "Starring: Humphrey Bogart, Katharine Hepburn, Robert Morley, Peter Bull\n",
      "Plot: In Africa during WWI, a gin-swilling riverboat captain is persuaded by a strait-laced missionary to use his boat to attack an enemy warship.\n"
     ]
    }
   ],
   "source": [
    "for row in movies:\n",
    "    print(\"%s (%s)\" % (row[\"Title\"], row[\"Year\"]))\n",
    "    print(\"Directed by: %s\" % row[\"Director\"])\n",
    "    print(\"Starring: %s\" % row[\"Actors\"])\n",
    "    print(\"Plot: %s\" % row[\"Plot\"])"
   ]
  },
  {
   "cell_type": "markdown",
   "metadata": {},
   "source": [
    "#### 2c) What does the documentation say will happen when the fieldnames parameter is removed from the function call?\n",
    "* Look at the Documentation for csv.DictReader?  https://docs.python.org/2/library/csv.html#csv.DictReader \n",
    "* \"If the fieldnames parameter is omitted, the values in the first row of the csvfile will be used as the fieldnames.\""
   ]
  },
  {
   "cell_type": "markdown",
   "metadata": {},
   "source": [
    "#### 2d) Modify your code that uses csv.DictReader() so that you can read in the csv file without parsing in the header line."
   ]
  },
  {
   "cell_type": "code",
   "execution_count": 49,
   "metadata": {
    "collapsed": false
   },
   "outputs": [],
   "source": [
    "try:\n",
    "    with open(\"data/movies.csv\", \"r\") as movies_fd: # open a file context\n",
    "        csv_data = csv.DictReader(movies_fd)\n",
    "        movies = list(csv_data) # converts the *iterator* into a list\n",
    "except IOError as ioe:\n",
    "    print(\"I/O Error occurred: %s\" % ioe)"
   ]
  },
  {
   "cell_type": "code",
   "execution_count": 50,
   "metadata": {
    "collapsed": false
   },
   "outputs": [
    {
     "name": "stdout",
     "output_type": "stream",
     "text": [
      "Casablanca (1942)\n",
      "Directed by: Michael Curtiz\n",
      "Starring: Humphrey Bogart, Ingrid Bergman, Paul Henreid, Claude Rains\n",
      "Plot: Set in Casablanca, Morocco during the early days of World War II: An American expatriate meets a former lover, with unforeseen complications.\n",
      "The Big Sleep (1946)\n",
      "Directed by: Howard Hawks\n",
      "Starring: Humphrey Bogart, Lauren Bacall, John Ridgely, Martha Vickers\n",
      "Plot: Private detective Philip Marlowe is hired by a rich family. Before the complex case is over, he's seen murder, blackmail, and what might be love.\n",
      "The African Queen (1951)\n",
      "Directed by: John Huston\n",
      "Starring: Humphrey Bogart, Katharine Hepburn, Robert Morley, Peter Bull\n",
      "Plot: In Africa during WWI, a gin-swilling riverboat captain is persuaded by a strait-laced missionary to use his boat to attack an enemy warship.\n"
     ]
    }
   ],
   "source": [
    "for row in movies:\n",
    "    print(\"%s (%s)\" % (row[\"Title\"], row[\"Year\"]))\n",
    "    print(\"Directed by: %s\" % row[\"Director\"])\n",
    "    print(\"Starring: %s\" % row[\"Actors\"])\n",
    "    print(\"Plot: %s\" % row[\"Plot\"])"
   ]
  },
  {
   "cell_type": "markdown",
   "metadata": {},
   "source": [
    "# Part 3 Reading and parsing XML File\n",
    "#### 3a) Add this import to the top of your Notebook"
   ]
  },
  {
   "cell_type": "code",
   "execution_count": 7,
   "metadata": {
    "collapsed": true
   },
   "outputs": [],
   "source": [
    "import xml.etree.ElementTree as et"
   ]
  },
  {
   "cell_type": "markdown",
   "metadata": {},
   "source": [
    "#### 3b) Using the File Manager, you can see the XML file "
   ]
  },
  {
   "cell_type": "markdown",
   "metadata": {},
   "source": [
    "#### 3c) Opens the data file using the xml.etree.ElementTree class, and gets the root of the XML tree"
   ]
  },
  {
   "cell_type": "code",
   "execution_count": 8,
   "metadata": {
    "collapsed": false
   },
   "outputs": [],
   "source": [
    "tree = et.ElementTree(file='data/movies.xml')\n",
    "root = tree.getroot()"
   ]
  },
  {
   "cell_type": "markdown",
   "metadata": {},
   "source": [
    "#### 3d) Using .find() and .findall() to print the records\n",
    "- First demonstrate using .find() on all `Movies` Elements in the XML tree"
   ]
  },
  {
   "cell_type": "code",
   "execution_count": 9,
   "metadata": {
    "collapsed": false
   },
   "outputs": [
    {
     "name": "stdout",
     "output_type": "stream",
     "text": [
      "PG\n",
      "APPROVED\n",
      "PG\n"
     ]
    }
   ],
   "source": [
    "for m in root:\n",
    "    rated = m.find(\"Rated\")\n",
    "    print(rated.text)"
   ]
  },
  {
   "cell_type": "code",
   "execution_count": 24,
   "metadata": {
    "collapsed": false
   },
   "outputs": [
    {
     "name": "stdout",
     "output_type": "stream",
     "text": [
      "PG\n"
     ]
    }
   ],
   "source": [
    "rated_tag = m.find(\"Rated\")\n",
    "print(rated_tag.text)"
   ]
  },
  {
   "cell_type": "markdown",
   "metadata": {},
   "source": [
    "- Print out the data records using .find() and .findall()"
   ]
  },
  {
   "cell_type": "code",
   "execution_count": 59,
   "metadata": {
    "collapsed": false,
    "scrolled": true
   },
   "outputs": [
    {
     "name": "stdout",
     "output_type": "stream",
     "text": [
      "Casablanca (1942)\n",
      "Directed by: Michael Curtiz\n",
      "Starring: Humphrey Bogart\n",
      "Starring: Ingrid Bergman\n",
      "Starring: Paul Henreid\n",
      "Starring: Claude Rains\n",
      "Plot: Set in Casablanca, Morocco during the early days of World War II: An American expatriate meets a former lover, with unforeseen complications\n",
      "The Big Sleep (1946)\n",
      "Directed by: Howard Hawks\n",
      "Starring: Humphrey Bogart\n",
      "Starring: Lauren Bacall\n",
      "Starring: John Ridgely\n",
      "Starring: Martha Vickers\n",
      "Plot: Private detective Philip Marlowe is hired by a rich family. Before the complex case is over, he's seen murder, blackmail, and what might be love.\n",
      "The African Queen (1951)\n",
      "Directed by: John Huston\n",
      "Starring: Humphrey Bogart\n",
      "Starring: Katharine Hepburn\n",
      "Starring: Robert Morley\n",
      "Starring: Peter Bull\n",
      "Plot: In Africa during WWI, a gin-swilling riverboat captain is persuaded by a strait-laced missionary to use his boat to attack an enemy warship.\n"
     ]
    }
   ],
   "source": [
    "for m in root:\n",
    "    print(\"%s (%s)\" % (m.find(\"Title\").text, m.find(\"Year\").text))\n",
    "    print(\"Directed by: %s\" % m.find(\"Director\").text)\n",
    "    # First find the \"Actors\" element \n",
    "    actors_element = m.find(\"Actors\")\n",
    "    # Then, use .findall() to get all the \"Actor\" elements\n",
    "    actors = actors_element.findall(\"Actor\")\n",
    "    for a in actors:\n",
    "        print(\"Starring: %s\" % a.text)\n",
    "    print(\"Plot: %s\" % m.find(\"Plot\").text)"
   ]
  },
  {
   "cell_type": "markdown",
   "metadata": {},
   "source": [
    "#### 3d) Getting the number of movies is simply the number of elements in the root of the XML tree"
   ]
  },
  {
   "cell_type": "code",
   "execution_count": 60,
   "metadata": {
    "collapsed": false,
    "scrolled": false
   },
   "outputs": [
    {
     "name": "stdout",
     "output_type": "stream",
     "text": [
      "Total number of movies: 3\n"
     ]
    }
   ],
   "source": [
    "print(\"Total number of movies: %s\" % len(root))"
   ]
  },
  {
   "cell_type": "markdown",
   "metadata": {},
   "source": [
    "# Part 3 Challenge\n",
    "#### Modify your XML parsing code to read the movie data records into a *list of dicts*"
   ]
  },
  {
   "cell_type": "code",
   "execution_count": 12,
   "metadata": {
    "collapsed": false
   },
   "outputs": [
    {
     "data": {
      "text/plain": [
       "[{'Actors': 'Humphrey Bogart, Ingrid Bergman, Paul Henreid, Claude Rains',\n",
       "  'Awards': 'Won 3 Oscars. Another 6 wins and 6 nominations.',\n",
       "  'Country': 'USA',\n",
       "  'Director': 'Michael Curtiz',\n",
       "  'Genre': 'Drama, Romance, War',\n",
       "  'Language': 'English, French, German, Italian',\n",
       "  'Metascore': 'N/A',\n",
       "  'Plot': 'Set in Casablanca, Morocco during the early days of World War II: An American expatriate meets a former lover, with unforeseen complications',\n",
       "  'Poster': 'http://ia.media-imdb.com/images/M/MV5BMjQwNDYyNTk2N15BMl5BanBnXkFtZTgwMjQ0OTMyMjE@._V1_SX300.jpg',\n",
       "  'Rated': 'PG',\n",
       "  'Released': '23 Jan 1943',\n",
       "  'Response': 'True',\n",
       "  'Runtime': '102 min',\n",
       "  'Title': 'Casablanca',\n",
       "  'Type': 'movie',\n",
       "  'Writers': '\\n      ',\n",
       "  'Year': '1942',\n",
       "  'imdbID': 'tt0034583',\n",
       "  'imdbRating': '8.6',\n",
       "  'imdbVotes': '357,332'},\n",
       " {'Actors': 'Humphrey Bogart, Lauren Bacall, John Ridgely, Martha Vickers',\n",
       "  'Awards': '1 win',\n",
       "  'Country': 'USA',\n",
       "  'Director': 'Howard Hawks',\n",
       "  'Genre': 'Crime, Film-Noir, Mystery',\n",
       "  'Language': 'English',\n",
       "  'Metascore': 'N/A',\n",
       "  'Plot': \"Private detective Philip Marlowe is hired by a rich family. Before the complex case is over, he's seen murder, blackmail, and what might be love.\",\n",
       "  'Poster': 'http://ia.media-imdb.com/images/M/MV5BNjg5MjM5MzY5M15BMl5BanBnXkFtZTgwNjg3MzgyMjE@._V1_SX300.jpg',\n",
       "  'Rated': 'APPROVED',\n",
       "  'Released': '31 Aug 1946',\n",
       "  'Response': 'True',\n",
       "  'Runtime': '114 min',\n",
       "  'Title': 'The Big Sleep',\n",
       "  'Type': 'movie',\n",
       "  'Writers': '\\n      ',\n",
       "  'Year': '1946',\n",
       "  'imdbID': 'tt0038355',\n",
       "  'imdbRating': '8.1',\n",
       "  'imdbVotes': '60,776'},\n",
       " {'Actors': 'Humphrey Bogart, Katharine Hepburn, Robert Morley, Peter Bull',\n",
       "  'Awards': 'Won 1 Oscar. Another 5 wins and 6 nominations.',\n",
       "  'Country': 'USA, UK',\n",
       "  'Director': 'John Huston',\n",
       "  'Genre': 'Adventure, Romance, War',\n",
       "  'Language': 'English, German, Swahili',\n",
       "  'Metascore': 'N/A',\n",
       "  'Plot': 'In Africa during WWI, a gin-swilling riverboat captain is persuaded by a strait-laced missionary to use his boat to attack an enemy warship.',\n",
       "  'Poster': 'http://ia.media-imdb.com/images/M/MV5BOTg0NjY1NTEyMF5BMl5BanBnXkFtZTgwNjUwMTY3MjE@._V1_SX300.jpg',\n",
       "  'Rated': 'PG',\n",
       "  'Released': '20 Feb 1952',\n",
       "  'Response': 'True',\n",
       "  'Runtime': '105 min',\n",
       "  'Title': 'The African Queen',\n",
       "  'Type': 'movie',\n",
       "  'Writers': '\\n      ',\n",
       "  'Year': '1951',\n",
       "  'imdbID': 'tt0043265',\n",
       "  'imdbRating': '7.9',\n",
       "  'imdbVotes': '55,484'}]"
      ]
     },
     "execution_count": 12,
     "metadata": {},
     "output_type": "execute_result"
    }
   ],
   "source": [
    "# Define a new array to load dictionaries into.\n",
    "movie_as_dicts = [] \n",
    "\n",
    "# Iterate over every `Movie` element\n",
    "for m in root:\n",
    "    # Use list indexing to pack a dictionary with the columns\n",
    "    row_dict = {}\n",
    "\n",
    "    # Iterate over every child of the `Movie` element\n",
    "    for child in m:\n",
    "        \n",
    "        if(child.tag == \"Actors\"): # handle \"Actors\" separately\n",
    "            # get a list of Actor's names using a List Comprehension\n",
    "            actors_names = [a.text for a in child] \n",
    "            # join the Actor's names together as a comma-separated string\n",
    "            row_dict[\"Actors\"] = \", \".join(actors_names)\n",
    "            # /OR/ alternatively, just put the list of actors_names as the value\n",
    "            # row_dict[\"Actors\"] = actors_names\n",
    "        \n",
    "        else: # key is \"tag\" name and the value is the child's \"text\" attribute\n",
    "            row_dict[child.tag] = child.text\n",
    "\n",
    "    # Append the new row dictionary to movie_as_dict\n",
    "    movie_as_dicts.append(row_dict)\n",
    "\n",
    "# Display results\n",
    "movie_as_dicts"
   ]
  },
  {
   "cell_type": "markdown",
   "metadata": {},
   "source": [
    "# Part 4 What Movie were they in?\n",
    "#### 4a) Using \"in\" to find whether an actor was in a particular movie"
   ]
  },
  {
   "cell_type": "code",
   "execution_count": 65,
   "metadata": {
    "collapsed": true
   },
   "outputs": [],
   "source": [
    "def find_actor_movies(movies_list, actor_name):\n",
    "    print(\"Searching movies for actor: %s\" % actor_name)\n",
    "    actor_movies = []\n",
    "    for m in movies_list:\n",
    "        if actor_name in m[\"Actors\"]:\n",
    "            actor_movies.append(m)\n",
    "    return actor_movies"
   ]
  },
  {
   "cell_type": "markdown",
   "metadata": {},
   "source": [
    "#### 4b) Test your code on, expect a single actor \"Ingrid Bergman\""
   ]
  },
  {
   "cell_type": "code",
   "execution_count": 66,
   "metadata": {
    "collapsed": false,
    "scrolled": false
   },
   "outputs": [
    {
     "name": "stdout",
     "output_type": "stream",
     "text": [
      "Searching movies for actor: Ingrid Bergman\n",
      "[{'Plot': 'Set in Casablanca, Morocco during the early days of World War II: An American expatriate meets a former lover, with unforeseen complications.', 'Rated': 'PG', 'Response': 'TRUE', 'Language': 'English, French, German, Italian', 'Title': 'Casablanca', 'Country': 'USA', 'Metascore': 'N/A', 'imdbRating': '8.6', 'Director': 'Michael Curtiz', 'Released': '23-Jan-43', 'Writers': 'Julius J. Epstein (screenplay), Philip G. Epstein (screenplay), Howard Koch (screenplay), Murray Burnett (play), Joan Alison (play)', 'Actors': 'Humphrey Bogart, Ingrid Bergman, Paul Henreid, Claude Rains', 'Year': '1942', 'Genre': 'Drama, Romance, War', 'Awards': 'Won 3 Oscars. Another 6 wins & 6 nominations.', 'Runtime': '102 min', 'Type': 'movie', 'Poster': 'http://ia.media-imdb.com/images/M/MV5BMjQwNDYyNTk2N15BMl5BanBnXkFtZTgwMjQ0OTMyMjE@._V1_SX300.jpg', 'imdbVotes': '357332', 'imdbID': 'tt0034583'}]\n"
     ]
    }
   ],
   "source": [
    "bergman_movies = find_actor_movies(movies, \"Ingrid Bergman\")\n",
    "print bergman_movies"
   ]
  },
  {
   "cell_type": "markdown",
   "metadata": {},
   "source": [
    "#### 4c) Print out the Title of movies, and the total number"
   ]
  },
  {
   "cell_type": "code",
   "execution_count": 67,
   "metadata": {
    "collapsed": false
   },
   "outputs": [
    {
     "name": "stdout",
     "output_type": "stream",
     "text": [
      "Ingrid Bergman was in 1 movies\n",
      "- Casablanca\n"
     ]
    }
   ],
   "source": [
    "print(\"Ingrid Bergman was in %d movies\" % len(bergman_movies))\n",
    "for m in bergman_movies:\n",
    "    print(\"- %s\" % m[\"Title\"])"
   ]
  },
  {
   "cell_type": "markdown",
   "metadata": {},
   "source": [
    "- modify `find_actor_movies` to print a message if actor was *not* in any movies"
   ]
  },
  {
   "cell_type": "code",
   "execution_count": 70,
   "metadata": {
    "collapsed": true
   },
   "outputs": [],
   "source": [
    "def find_actor_movies(movies_list, actor_name):\n",
    "    print(\"Searching movies for actor: %s\" % actor_name)\n",
    "    actor_movies = []\n",
    "    for m in movies_list:\n",
    "        if actor_name in m[\"Actors\"]:\n",
    "            actor_movies.append(m)\n",
    "    # Check if actor was not in any movies\n",
    "    if(len(actor_movies) == 0):\n",
    "        print(\"'%s' was not in any movies\" % actor_name)\n",
    "    return actor_movies"
   ]
  },
  {
   "cell_type": "code",
   "execution_count": 71,
   "metadata": {
    "collapsed": false
   },
   "outputs": [
    {
     "name": "stdout",
     "output_type": "stream",
     "text": [
      "Searching movies for actor: George Clooney\n",
      "'George Clooney' was not in any movies\n"
     ]
    },
    {
     "data": {
      "text/plain": [
       "[]"
      ]
     },
     "execution_count": 71,
     "metadata": {},
     "output_type": "execute_result"
    }
   ],
   "source": [
    "find_actor_movies(movies, \"George Clooney\")"
   ]
  },
  {
   "cell_type": "markdown",
   "metadata": {},
   "source": [
    "# Part 4 Challenge\n",
    "- Modify your find_actors_movies() function to find all movies whose actor’s name is part of\n",
    "- Account for a different case"
   ]
  },
  {
   "cell_type": "code",
   "execution_count": 73,
   "metadata": {
    "collapsed": true
   },
   "outputs": [],
   "source": [
    "def find_actor_movies(movies_list, actor_name):\n",
    "    print(\"Searching movies for actor: %s\" % actor_name)\n",
    "    actor_movies = []\n",
    "    for m in movies_list:\n",
    "        # Using \"in\" accounts for a partial name\n",
    "        # Drop both to lower-case to account for different cases\n",
    "        if(actor_name.lower() in m[\"Actors\"].lower()):\n",
    "            actor_movies.append(m)\n",
    "    # Check if actor was not in any movies\n",
    "    if(len(actor_movies) == 0):\n",
    "        print(\"'%s' was not in any movies\" % actor_name)\n",
    "    return actor_movies"
   ]
  },
  {
   "cell_type": "code",
   "execution_count": 74,
   "metadata": {
    "collapsed": false,
    "scrolled": true
   },
   "outputs": [
    {
     "name": "stdout",
     "output_type": "stream",
     "text": [
      "Searching movies for actor: bogart\n"
     ]
    },
    {
     "data": {
      "text/plain": [
       "[{'Actors': 'Humphrey Bogart, Ingrid Bergman, Paul Henreid, Claude Rains',\n",
       "  'Awards': 'Won 3 Oscars. Another 6 wins & 6 nominations.',\n",
       "  'Country': 'USA',\n",
       "  'Director': 'Michael Curtiz',\n",
       "  'Genre': 'Drama, Romance, War',\n",
       "  'Language': 'English, French, German, Italian',\n",
       "  'Metascore': 'N/A',\n",
       "  'Plot': 'Set in Casablanca, Morocco during the early days of World War II: An American expatriate meets a former lover, with unforeseen complications.',\n",
       "  'Poster': 'http://ia.media-imdb.com/images/M/MV5BMjQwNDYyNTk2N15BMl5BanBnXkFtZTgwMjQ0OTMyMjE@._V1_SX300.jpg',\n",
       "  'Rated': 'PG',\n",
       "  'Released': '23-Jan-43',\n",
       "  'Response': 'TRUE',\n",
       "  'Runtime': '102 min',\n",
       "  'Title': 'Casablanca',\n",
       "  'Type': 'movie',\n",
       "  'Writers': 'Julius J. Epstein (screenplay), Philip G. Epstein (screenplay), Howard Koch (screenplay), Murray Burnett (play), Joan Alison (play)',\n",
       "  'Year': '1942',\n",
       "  'imdbID': 'tt0034583',\n",
       "  'imdbRating': '8.6',\n",
       "  'imdbVotes': '357332'},\n",
       " {'Actors': 'Humphrey Bogart, Lauren Bacall, John Ridgely, Martha Vickers',\n",
       "  'Awards': '1 win.',\n",
       "  'Country': 'USA',\n",
       "  'Director': 'Howard Hawks',\n",
       "  'Genre': 'Crime, Film-Noir, Mystery',\n",
       "  'Language': 'English',\n",
       "  'Metascore': 'N/A',\n",
       "  'Plot': \"Private detective Philip Marlowe is hired by a rich family. Before the complex case is over, he's seen murder, blackmail, and what might be love.\",\n",
       "  'Poster': 'http://ia.media-imdb.com/images/M/MV5BNjg5MjM5MzY5M15BMl5BanBnXkFtZTgwNjg3MzgyMjE@._V1_SX300.jpg',\n",
       "  'Rated': 'APPROVED',\n",
       "  'Released': '31-Aug-46',\n",
       "  'Response': 'TRUE',\n",
       "  'Runtime': '114 min',\n",
       "  'Title': 'The Big Sleep',\n",
       "  'Type': 'movie',\n",
       "  'Writers': 'William Faulkner (screen play), Leigh Brackett (screen play), Jules Furthman (screen play), Raymond Chandler (from the novel by)',\n",
       "  'Year': '1946',\n",
       "  'imdbID': 'tt0038355',\n",
       "  'imdbRating': '8.1',\n",
       "  'imdbVotes': '60776'},\n",
       " {'Actors': 'Humphrey Bogart, Katharine Hepburn, Robert Morley, Peter Bull',\n",
       "  'Awards': 'Won 1 Oscar. Another 5 wins & 6 nominations.',\n",
       "  'Country': 'USA, UK',\n",
       "  'Director': 'John Huston',\n",
       "  'Genre': 'Adventure, Romance, War',\n",
       "  'Language': 'English, German, Swahili',\n",
       "  'Metascore': 'N/A',\n",
       "  'Plot': 'In Africa during WWI, a gin-swilling riverboat captain is persuaded by a strait-laced missionary to use his boat to attack an enemy warship.',\n",
       "  'Poster': 'http://ia.media-imdb.com/images/M/MV5BOTg0NjY1NTEyMF5BMl5BanBnXkFtZTgwNjUwMTY3MjE@._V1_SX300.jpg',\n",
       "  'Rated': 'PG',\n",
       "  'Released': '20-Feb-52',\n",
       "  'Response': 'TRUE',\n",
       "  'Runtime': '105 min',\n",
       "  'Title': 'The African Queen',\n",
       "  'Type': 'movie',\n",
       "  'Writers': 'C.S. Forester (novel), James Agee (adapted for the screen by), John Huston (adapted for the screen by)',\n",
       "  'Year': '1951',\n",
       "  'imdbID': 'tt0043265',\n",
       "  'imdbRating': '7.9',\n",
       "  'imdbVotes': '55484'}]"
      ]
     },
     "execution_count": 74,
     "metadata": {},
     "output_type": "execute_result"
    }
   ],
   "source": [
    "find_actor_movies(movies, \"bogart\")"
   ]
  },
  {
   "cell_type": "markdown",
   "metadata": {},
   "source": [
    "# Part 5 Writing CSV Files with csv.DictWriter\n",
    "- Find an actor's movies using your function\n",
    "- Conver the actor's name to come up with a new filename\n",
    "- Get the fieldnames to write out, as column names\n",
    "- Write out the movies using csv.DictWriter"
   ]
  },
  {
   "cell_type": "code",
   "execution_count": 80,
   "metadata": {
    "collapsed": false
   },
   "outputs": [
    {
     "name": "stdout",
     "output_type": "stream",
     "text": [
      "Searching movies for actor: Ingrid Bergman\n"
     ]
    },
    {
     "data": {
      "text/plain": [
       "[{'Actors': 'Humphrey Bogart, Ingrid Bergman, Paul Henreid, Claude Rains',\n",
       "  'Awards': 'Won 3 Oscars. Another 6 wins & 6 nominations.',\n",
       "  'Country': 'USA',\n",
       "  'Director': 'Michael Curtiz',\n",
       "  'Genre': 'Drama, Romance, War',\n",
       "  'Language': 'English, French, German, Italian',\n",
       "  'Metascore': 'N/A',\n",
       "  'Plot': 'Set in Casablanca, Morocco during the early days of World War II: An American expatriate meets a former lover, with unforeseen complications.',\n",
       "  'Poster': 'http://ia.media-imdb.com/images/M/MV5BMjQwNDYyNTk2N15BMl5BanBnXkFtZTgwMjQ0OTMyMjE@._V1_SX300.jpg',\n",
       "  'Rated': 'PG',\n",
       "  'Released': '23-Jan-43',\n",
       "  'Response': 'TRUE',\n",
       "  'Runtime': '102 min',\n",
       "  'Title': 'Casablanca',\n",
       "  'Type': 'movie',\n",
       "  'Writers': 'Julius J. Epstein (screenplay), Philip G. Epstein (screenplay), Howard Koch (screenplay), Murray Burnett (play), Joan Alison (play)',\n",
       "  'Year': '1942',\n",
       "  'imdbID': 'tt0034583',\n",
       "  'imdbRating': '8.6',\n",
       "  'imdbVotes': '357332'}]"
      ]
     },
     "execution_count": 80,
     "metadata": {},
     "output_type": "execute_result"
    }
   ],
   "source": [
    "actor_name = \"Ingrid Bergman\"\n",
    "bergman_movies = find_actor_movies(movies, actor_name)\n",
    "bergman_movies"
   ]
  },
  {
   "cell_type": "code",
   "execution_count": 81,
   "metadata": {
    "collapsed": false,
    "scrolled": true
   },
   "outputs": [
    {
     "name": "stdout",
     "output_type": "stream",
     "text": [
      "ingrid_bergman_movies.csv\n"
     ]
    }
   ],
   "source": [
    "actor_filename = \"%s_movies.csv\" % actor_name.lower().replace(\" \", \"_\")\n",
    "print actor_filename"
   ]
  },
  {
   "cell_type": "code",
   "execution_count": 83,
   "metadata": {
    "collapsed": false
   },
   "outputs": [
    {
     "name": "stdout",
     "output_type": "stream",
     "text": [
      "['Plot', 'Rated', 'Response', 'Language', 'Title', 'Country', 'Metascore', 'imdbRating', 'Director', 'Released', 'Writers', 'Actors', 'Year', 'Genre', 'Awards', 'Runtime', 'Type', 'Poster', 'imdbVotes', 'imdbID']\n"
     ]
    }
   ],
   "source": [
    "# the 'keys' of one of the movie elements can be used to get the fieldnames\n",
    "fieldnames = bergman_movies[0].keys() \n",
    "print fieldnames"
   ]
  },
  {
   "cell_type": "code",
   "execution_count": 84,
   "metadata": {
    "collapsed": false
   },
   "outputs": [],
   "source": [
    "try:\n",
    "    with open(\"data/%s\" % actor_filename, \"w\") as movies_fd: # open a file context\n",
    "        csv_file = csv.DictWriter(movies_fd, fieldnames=fieldnames)\n",
    "        csv_file.writeheader() # Writes the header to the file\n",
    "        csv_file.writerows(bergman_movies) # Writes the rows to the file\n",
    "except IOError as ioe:\n",
    "    print(\"I/O Error occurred: %s\" % ioe)"
   ]
  },
  {
   "cell_type": "markdown",
   "metadata": {},
   "source": [
    "#### View the file 'ingrid_bergman_movies.csv' in File Manager -> data/"
   ]
  }
 ],
 "metadata": {
  "kernelspec": {
   "display_name": "Python 2",
   "language": "python",
   "name": "python2"
  },
  "language_info": {
   "codemirror_mode": {
    "name": "ipython",
    "version": 2
   },
   "file_extension": ".py",
   "mimetype": "text/x-python",
   "name": "python",
   "nbconvert_exporter": "python",
   "pygments_lexer": "ipython2",
   "version": "2.7.11"
  }
 },
 "nbformat": 4,
 "nbformat_minor": 0
}
