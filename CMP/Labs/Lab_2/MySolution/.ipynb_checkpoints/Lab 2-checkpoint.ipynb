{
 "cells": [
  {
   "cell_type": "code",
   "execution_count": 5,
   "metadata": {
    "collapsed": true
   },
   "outputs": [],
   "source": [
    "import csv\n",
    "import xml.etree.ElementTree as et"
   ]
  },
  {
   "cell_type": "code",
   "execution_count": 4,
   "metadata": {
    "collapsed": false
   },
   "outputs": [
    {
     "name": "stdout",
     "output_type": "stream",
     "text": [
      "I/O Error: [Errno 2] No such file or directory: 'data/movies.csv'\n"
     ]
    }
   ],
   "source": [
    "try:\n",
    "    with open(\"data/movies.csv\", \"r\") as movies_fd:\n",
    "        csv_data = csv.reader(movies_fd)\n",
    "        movies = list(csv_data)\n",
    "except IOError as ioe:\n",
    "    print(\"I/O Error: %s\" % ioe)"
   ]
  },
  {
   "cell_type": "code",
   "execution_count": 49,
   "metadata": {
    "collapsed": false
   },
   "outputs": [
    {
     "name": "stdout",
     "output_type": "stream",
     "text": [
      "[['Title', 'Year', 'Rated', 'Released', 'Runtime', 'Genre', 'Director', 'Writers', 'Actors', 'Plot', 'Language', 'Country', 'Awards', 'Poster', 'Metascore', 'imdbRating', 'imdbVotes', 'imdbID', 'Type', 'Response'], ['Casablanca', '1942', 'PG', '23-Jan-43', '102 min', 'Drama, Romance, War', 'Michael Curtiz', 'Julius J. Epstein (screenplay), Philip G. Epstein (screenplay), Howard Koch (screenplay), Murray Burnett (play), Joan Alison (play)', 'Humphrey Bogart, Ingrid Bergman, Paul Henreid, Claude Rains', 'Set in Casablanca, Morocco during the early days of World War II: An American expatriate meets a former lover, with unforeseen complications.', 'English, French, German, Italian', 'USA', 'Won 3 Oscars. Another 6 wins & 6 nominations.', 'http://ia.media-imdb.com/images/M/MV5BMjQwNDYyNTk2N15BMl5BanBnXkFtZTgwMjQ0OTMyMjE@._V1_SX300.jpg', 'N/A', '8.6', '357332', 'tt0034583', 'movie', 'TRUE'], ['The Big Sleep', '1946', 'APPROVED', '31-Aug-46', '114 min', 'Crime, Film-Noir, Mystery', 'Howard Hawks', 'William Faulkner (screen play), Leigh Brackett (screen play), Jules Furthman (screen play), Raymond Chandler (from the novel by)', 'Humphrey Bogart, Lauren Bacall, John Ridgely, Martha Vickers', \"Private detective Philip Marlowe is hired by a rich family. Before the complex case is over, he's seen murder, blackmail, and what might be love.\", 'English', 'USA', '1 win.', 'http://ia.media-imdb.com/images/M/MV5BNjg5MjM5MzY5M15BMl5BanBnXkFtZTgwNjg3MzgyMjE@._V1_SX300.jpg', 'N/A', '8.1', '60776', 'tt0038355', 'movie', 'TRUE'], ['The African Queen', '1951', 'PG', '20-Feb-52', '105 min', 'Adventure, Romance, War', 'John Huston', 'C.S. Forester (novel), James Agee (adapted for the screen by), John Huston (adapted for the screen by)', 'Humphrey Bogart, Katharine Hepburn, Robert Morley, Peter Bull', 'In Africa during WWI, a gin-swilling riverboat captain is persuaded by a strait-laced missionary to use his boat to attack an enemy warship.', 'English, German, Swahili', 'USA, UK', 'Won 1 Oscar. Another 5 wins & 6 nominations.', 'http://ia.media-imdb.com/images/M/MV5BOTg0NjY1NTEyMF5BMl5BanBnXkFtZTgwNjUwMTY3MjE@._V1_SX300.jpg', 'N/A', '7.9', '55484', 'tt0043265', 'movie', 'TRUE']]\n"
     ]
    }
   ],
   "source": [
    "print(movies)"
   ]
  },
  {
   "cell_type": "code",
   "execution_count": 50,
   "metadata": {
    "collapsed": false
   },
   "outputs": [
    {
     "name": "stdout",
     "output_type": "stream",
     "text": [
      "Casablanca (1942)\n",
      "Directed by: Michael Curtiz\n",
      "Starring: Humphrey Bogart, Ingrid Bergman, Paul Henreid, Claude Rains\n",
      "Plot: Set in Casablanca, Morocco during the early days of World War II: An American expatriate meets a former lover, with unforeseen complications.\n",
      "\n",
      "The Big Sleep (1946)\n",
      "Directed by: Howard Hawks\n",
      "Starring: Humphrey Bogart, Lauren Bacall, John Ridgely, Martha Vickers\n",
      "Plot: Private detective Philip Marlowe is hired by a rich family. Before the complex case is over, he's seen murder, blackmail, and what might be love.\n",
      "\n",
      "The African Queen (1951)\n",
      "Directed by: John Huston\n",
      "Starring: Humphrey Bogart, Katharine Hepburn, Robert Morley, Peter Bull\n",
      "Plot: In Africa during WWI, a gin-swilling riverboat captain is persuaded by a strait-laced missionary to use his boat to attack an enemy warship.\n",
      "\n"
     ]
    }
   ],
   "source": [
    "for i in movies[1:]:\n",
    "    print(\"%s (%s)\"%(i[0],i[1]))\n",
    "    print(\"Directed by: %s\"%(i[6]))\n",
    "    print(\"Starring: %s\"%(i[8]))\n",
    "    print(\"Plot: %s\"%(i[9]))\n",
    "    print()"
   ]
  },
  {
   "cell_type": "code",
   "execution_count": 51,
   "metadata": {
    "collapsed": true
   },
   "outputs": [],
   "source": [
    "try:\n",
    "    with open(\"data/movies.csv\", \"r\") as movies_fd:\n",
    "        csv_data = csv.DictReader(movies_fd)\n",
    "        movies = list(csv_data)\n",
    "except IOError as ioe:\n",
    "    print(\"I/O Error: %s\" % ioe)"
   ]
  },
  {
   "cell_type": "code",
   "execution_count": 58,
   "metadata": {
    "collapsed": false
   },
   "outputs": [
    {
     "name": "stdout",
     "output_type": "stream",
     "text": [
      "[{'imdbRating': '8.6', 'Type': 'movie', 'Country': 'USA', 'Rated': 'PG', 'Writers': 'Julius J. Epstein (screenplay), Philip G. Epstein (screenplay), Howard Koch (screenplay), Murray Burnett (play), Joan Alison (play)', 'Actors': 'Humphrey Bogart, Ingrid Bergman, Paul Henreid, Claude Rains', 'Title': 'Casablanca', 'Response': 'TRUE', 'Awards': 'Won 3 Oscars. Another 6 wins & 6 nominations.', 'imdbID': 'tt0034583', 'Plot': 'Set in Casablanca, Morocco during the early days of World War II: An American expatriate meets a former lover, with unforeseen complications.', 'Released': '23-Jan-43', 'Runtime': '102 min', 'Poster': 'http://ia.media-imdb.com/images/M/MV5BMjQwNDYyNTk2N15BMl5BanBnXkFtZTgwMjQ0OTMyMjE@._V1_SX300.jpg', 'Genre': 'Drama, Romance, War', 'Metascore': 'N/A', 'Year': '1942', 'Language': 'English, French, German, Italian', 'Director': 'Michael Curtiz', 'imdbVotes': '357332'}, {'imdbRating': '8.1', 'Type': 'movie', 'Country': 'USA', 'Rated': 'APPROVED', 'Writers': 'William Faulkner (screen play), Leigh Brackett (screen play), Jules Furthman (screen play), Raymond Chandler (from the novel by)', 'Actors': 'Humphrey Bogart, Lauren Bacall, John Ridgely, Martha Vickers', 'Title': 'The Big Sleep', 'Response': 'TRUE', 'Awards': '1 win.', 'imdbID': 'tt0038355', 'Plot': \"Private detective Philip Marlowe is hired by a rich family. Before the complex case is over, he's seen murder, blackmail, and what might be love.\", 'Released': '31-Aug-46', 'Runtime': '114 min', 'Poster': 'http://ia.media-imdb.com/images/M/MV5BNjg5MjM5MzY5M15BMl5BanBnXkFtZTgwNjg3MzgyMjE@._V1_SX300.jpg', 'Genre': 'Crime, Film-Noir, Mystery', 'Metascore': 'N/A', 'Year': '1946', 'Language': 'English', 'Director': 'Howard Hawks', 'imdbVotes': '60776'}, {'imdbRating': '7.9', 'Type': 'movie', 'Country': 'USA, UK', 'Rated': 'PG', 'Writers': 'C.S. Forester (novel), James Agee (adapted for the screen by), John Huston (adapted for the screen by)', 'Actors': 'Humphrey Bogart, Katharine Hepburn, Robert Morley, Peter Bull', 'Title': 'The African Queen', 'Response': 'TRUE', 'Awards': 'Won 1 Oscar. Another 5 wins & 6 nominations.', 'imdbID': 'tt0043265', 'Plot': 'In Africa during WWI, a gin-swilling riverboat captain is persuaded by a strait-laced missionary to use his boat to attack an enemy warship.', 'Released': '20-Feb-52', 'Runtime': '105 min', 'Poster': 'http://ia.media-imdb.com/images/M/MV5BOTg0NjY1NTEyMF5BMl5BanBnXkFtZTgwNjUwMTY3MjE@._V1_SX300.jpg', 'Genre': 'Adventure, Romance, War', 'Metascore': 'N/A', 'Year': '1951', 'Language': 'English, German, Swahili', 'Director': 'John Huston', 'imdbVotes': '55484'}]\n"
     ]
    }
   ],
   "source": [
    "print(movies)"
   ]
  },
  {
   "cell_type": "code",
   "execution_count": 59,
   "metadata": {
    "collapsed": false
   },
   "outputs": [
    {
     "name": "stdout",
     "output_type": "stream",
     "text": [
      "Casablanca (1942)\n",
      "Directed by: Michael Curtiz\n",
      "Starring: Humphrey Bogart, Ingrid Bergman, Paul Henreid, Claude Rains\n",
      "Plot: Set in Casablanca, Morocco during the early days of World War II: An American expatriate meets a former lover, with unforeseen complications.\n",
      "\n",
      "The Big Sleep (1946)\n",
      "Directed by: Howard Hawks\n",
      "Starring: Humphrey Bogart, Lauren Bacall, John Ridgely, Martha Vickers\n",
      "Plot: Private detective Philip Marlowe is hired by a rich family. Before the complex case is over, he's seen murder, blackmail, and what might be love.\n",
      "\n",
      "The African Queen (1951)\n",
      "Directed by: John Huston\n",
      "Starring: Humphrey Bogart, Katharine Hepburn, Robert Morley, Peter Bull\n",
      "Plot: In Africa during WWI, a gin-swilling riverboat captain is persuaded by a strait-laced missionary to use his boat to attack an enemy warship.\n",
      "\n"
     ]
    }
   ],
   "source": [
    "for movie in movies:\n",
    "    print(\"%s (%s)\"%(movie[\"Title\"],movie[\"Year\"]))\n",
    "    print(\"Directed by: %s\"%(movie[\"Director\"]))\n",
    "    print(\"Starring: %s\"%(movie[\"Actors\"]))\n",
    "    print(\"Plot: %s\"%(movie[\"Plot\"]))\n",
    "    print()"
   ]
  },
  {
   "cell_type": "code",
   "execution_count": null,
   "metadata": {
    "collapsed": true
   },
   "outputs": [],
   "source": [
    "tree = et.ElementTree(file='data/movies.xml')\n",
    "root = tree.getroot()"
   ]
  },
  {
   "cell_type": "code",
   "execution_count": null,
   "metadata": {
    "collapsed": true
   },
   "outputs": [],
   "source": []
  },
  {
   "cell_type": "code",
   "execution_count": null,
   "metadata": {
    "collapsed": true
   },
   "outputs": [],
   "source": []
  },
  {
   "cell_type": "code",
   "execution_count": null,
   "metadata": {
    "collapsed": true
   },
   "outputs": [],
   "source": []
  },
  {
   "cell_type": "code",
   "execution_count": null,
   "metadata": {
    "collapsed": true
   },
   "outputs": [],
   "source": []
  }
 ],
 "metadata": {
  "anaconda-cloud": {},
  "kernelspec": {
   "display_name": "Python [conda root]",
   "language": "python",
   "name": "conda-root-py"
  },
  "language_info": {
   "codemirror_mode": {
    "name": "ipython",
    "version": 2
   },
   "file_extension": ".py",
   "mimetype": "text/x-python",
   "name": "python",
   "nbconvert_exporter": "python",
   "pygments_lexer": "ipython2",
   "version": "2.7.12"
  }
 },
 "nbformat": 4,
 "nbformat_minor": 0
}
