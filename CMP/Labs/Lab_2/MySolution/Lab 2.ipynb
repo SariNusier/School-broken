{
 "cells": [
  {
   "cell_type": "code",
   "execution_count": 1,
   "metadata": {
    "collapsed": true
   },
   "outputs": [],
   "source": [
    "import csv\n",
    "import xml.etree.ElementTree as et"
   ]
  },
  {
   "cell_type": "code",
   "execution_count": 2,
   "metadata": {
    "collapsed": false
   },
   "outputs": [],
   "source": [
    "try:\n",
    "    with open(\"data/movies.csv\", \"r\") as movies_fd:\n",
    "        csv_data = csv.reader(movies_fd)\n",
    "        movies = list(csv_data)\n",
    "except IOError as ioe:\n",
    "    print(\"I/O Error: %s\" % ioe)"
   ]
  },
  {
   "cell_type": "code",
   "execution_count": 3,
   "metadata": {
    "collapsed": false
   },
   "outputs": [
    {
     "name": "stdout",
     "output_type": "stream",
     "text": [
      "[['Title', 'Year', 'Rated', 'Released', 'Runtime', 'Genre', 'Director', 'Writers', 'Actors', 'Plot', 'Language', 'Country', 'Awards', 'Poster', 'Metascore', 'imdbRating', 'imdbVotes', 'imdbID', 'Type', 'Response'], ['Casablanca', '1942', 'PG', '23-Jan-43', '102 min', 'Drama, Romance, War', 'Michael Curtiz', 'Julius J. Epstein (screenplay), Philip G. Epstein (screenplay), Howard Koch (screenplay), Murray Burnett (play), Joan Alison (play)', 'Humphrey Bogart, Ingrid Bergman, Paul Henreid, Claude Rains', 'Set in Casablanca, Morocco during the early days of World War II: An American expatriate meets a former lover, with unforeseen complications.', 'English, French, German, Italian', 'USA', 'Won 3 Oscars. Another 6 wins & 6 nominations.', 'http://ia.media-imdb.com/images/M/MV5BMjQwNDYyNTk2N15BMl5BanBnXkFtZTgwMjQ0OTMyMjE@._V1_SX300.jpg', 'N/A', '8.6', '357332', 'tt0034583', 'movie', 'TRUE'], ['The Big Sleep', '1946', 'APPROVED', '31-Aug-46', '114 min', 'Crime, Film-Noir, Mystery', 'Howard Hawks', 'William Faulkner (screen play), Leigh Brackett (screen play), Jules Furthman (screen play), Raymond Chandler (from the novel by)', 'Humphrey Bogart, Lauren Bacall, John Ridgely, Martha Vickers', \"Private detective Philip Marlowe is hired by a rich family. Before the complex case is over, he's seen murder, blackmail, and what might be love.\", 'English', 'USA', '1 win.', 'http://ia.media-imdb.com/images/M/MV5BNjg5MjM5MzY5M15BMl5BanBnXkFtZTgwNjg3MzgyMjE@._V1_SX300.jpg', 'N/A', '8.1', '60776', 'tt0038355', 'movie', 'TRUE'], ['The African Queen', '1951', 'PG', '20-Feb-52', '105 min', 'Adventure, Romance, War', 'John Huston', 'C.S. Forester (novel), James Agee (adapted for the screen by), John Huston (adapted for the screen by)', 'Humphrey Bogart, Katharine Hepburn, Robert Morley, Peter Bull', 'In Africa during WWI, a gin-swilling riverboat captain is persuaded by a strait-laced missionary to use his boat to attack an enemy warship.', 'English, German, Swahili', 'USA, UK', 'Won 1 Oscar. Another 5 wins & 6 nominations.', 'http://ia.media-imdb.com/images/M/MV5BOTg0NjY1NTEyMF5BMl5BanBnXkFtZTgwNjUwMTY3MjE@._V1_SX300.jpg', 'N/A', '7.9', '55484', 'tt0043265', 'movie', 'TRUE']]\n"
     ]
    }
   ],
   "source": [
    "print movies"
   ]
  },
  {
   "cell_type": "code",
   "execution_count": 4,
   "metadata": {
    "collapsed": false
   },
   "outputs": [
    {
     "name": "stdout",
     "output_type": "stream",
     "text": [
      "Casablanca (1942)\n",
      "Directed by: Michael Curtiz\n",
      "Starring: Humphrey Bogart, Ingrid Bergman, Paul Henreid, Claude Rains\n",
      "Plot: Set in Casablanca, Morocco during the early days of World War II: An American expatriate meets a former lover, with unforeseen complications.\n",
      "\n",
      "The Big Sleep (1946)\n",
      "Directed by: Howard Hawks\n",
      "Starring: Humphrey Bogart, Lauren Bacall, John Ridgely, Martha Vickers\n",
      "Plot: Private detective Philip Marlowe is hired by a rich family. Before the complex case is over, he's seen murder, blackmail, and what might be love.\n",
      "\n",
      "The African Queen (1951)\n",
      "Directed by: John Huston\n",
      "Starring: Humphrey Bogart, Katharine Hepburn, Robert Morley, Peter Bull\n",
      "Plot: In Africa during WWI, a gin-swilling riverboat captain is persuaded by a strait-laced missionary to use his boat to attack an enemy warship.\n",
      "\n"
     ]
    }
   ],
   "source": [
    "for i in movies[1:]:\n",
    "    print(\"%s (%s)\"%(i[0],i[1]))\n",
    "    print(\"Directed by: %s\"%(i[6]))\n",
    "    print(\"Starring: %s\"%(i[8]))\n",
    "    print(\"Plot: %s\"%(i[9]))\n",
    "    print"
   ]
  },
  {
   "cell_type": "code",
   "execution_count": 5,
   "metadata": {
    "collapsed": true
   },
   "outputs": [],
   "source": [
    "try:\n",
    "    with open(\"data/movies.csv\", \"r\") as movies_fd:\n",
    "        csv_data = csv.DictReader(movies_fd)\n",
    "        movies = list(csv_data)\n",
    "except IOError as ioe:\n",
    "    print(\"I/O Error: %s\" % ioe)"
   ]
  },
  {
   "cell_type": "code",
   "execution_count": 6,
   "metadata": {
    "collapsed": false
   },
   "outputs": [
    {
     "name": "stdout",
     "output_type": "stream",
     "text": [
      "[{'Plot': 'Set in Casablanca, Morocco during the early days of World War II: An American expatriate meets a former lover, with unforeseen complications.', 'Rated': 'PG', 'Response': 'TRUE', 'Language': 'English, French, German, Italian', 'Title': 'Casablanca', 'Country': 'USA', 'Metascore': 'N/A', 'imdbRating': '8.6', 'Director': 'Michael Curtiz', 'Released': '23-Jan-43', 'Writers': 'Julius J. Epstein (screenplay), Philip G. Epstein (screenplay), Howard Koch (screenplay), Murray Burnett (play), Joan Alison (play)', 'Actors': 'Humphrey Bogart, Ingrid Bergman, Paul Henreid, Claude Rains', 'Year': '1942', 'Genre': 'Drama, Romance, War', 'Awards': 'Won 3 Oscars. Another 6 wins & 6 nominations.', 'Runtime': '102 min', 'Type': 'movie', 'Poster': 'http://ia.media-imdb.com/images/M/MV5BMjQwNDYyNTk2N15BMl5BanBnXkFtZTgwMjQ0OTMyMjE@._V1_SX300.jpg', 'imdbVotes': '357332', 'imdbID': 'tt0034583'}, {'Plot': \"Private detective Philip Marlowe is hired by a rich family. Before the complex case is over, he's seen murder, blackmail, and what might be love.\", 'Rated': 'APPROVED', 'Response': 'TRUE', 'Language': 'English', 'Title': 'The Big Sleep', 'Country': 'USA', 'Metascore': 'N/A', 'imdbRating': '8.1', 'Director': 'Howard Hawks', 'Released': '31-Aug-46', 'Writers': 'William Faulkner (screen play), Leigh Brackett (screen play), Jules Furthman (screen play), Raymond Chandler (from the novel by)', 'Actors': 'Humphrey Bogart, Lauren Bacall, John Ridgely, Martha Vickers', 'Year': '1946', 'Genre': 'Crime, Film-Noir, Mystery', 'Awards': '1 win.', 'Runtime': '114 min', 'Type': 'movie', 'Poster': 'http://ia.media-imdb.com/images/M/MV5BNjg5MjM5MzY5M15BMl5BanBnXkFtZTgwNjg3MzgyMjE@._V1_SX300.jpg', 'imdbVotes': '60776', 'imdbID': 'tt0038355'}, {'Plot': 'In Africa during WWI, a gin-swilling riverboat captain is persuaded by a strait-laced missionary to use his boat to attack an enemy warship.', 'Rated': 'PG', 'Response': 'TRUE', 'Language': 'English, German, Swahili', 'Title': 'The African Queen', 'Country': 'USA, UK', 'Metascore': 'N/A', 'imdbRating': '7.9', 'Director': 'John Huston', 'Released': '20-Feb-52', 'Writers': 'C.S. Forester (novel), James Agee (adapted for the screen by), John Huston (adapted for the screen by)', 'Actors': 'Humphrey Bogart, Katharine Hepburn, Robert Morley, Peter Bull', 'Year': '1951', 'Genre': 'Adventure, Romance, War', 'Awards': 'Won 1 Oscar. Another 5 wins & 6 nominations.', 'Runtime': '105 min', 'Type': 'movie', 'Poster': 'http://ia.media-imdb.com/images/M/MV5BOTg0NjY1NTEyMF5BMl5BanBnXkFtZTgwNjUwMTY3MjE@._V1_SX300.jpg', 'imdbVotes': '55484', 'imdbID': 'tt0043265'}]\n"
     ]
    }
   ],
   "source": [
    "print(movies)"
   ]
  },
  {
   "cell_type": "code",
   "execution_count": 15,
   "metadata": {
    "collapsed": false
   },
   "outputs": [
    {
     "name": "stdout",
     "output_type": "stream",
     "text": [
      "Casablanca (1942)\n",
      "Directed by: Michael Curtiz\n",
      "Starring: Humphrey Bogart, Ingrid Bergman, Paul Henreid, Claude Rains\n",
      "Plot: Set in Casablanca, Morocco during the early days of World War II: An American expatriate meets a former lover, with unforeseen complications.\n",
      "\n",
      "The Big Sleep (1946)\n",
      "Directed by: Howard Hawks\n",
      "Starring: Humphrey Bogart, Lauren Bacall, John Ridgely, Martha Vickers\n",
      "Plot: Private detective Philip Marlowe is hired by a rich family. Before the complex case is over, he's seen murder, blackmail, and what might be love.\n",
      "\n",
      "The African Queen (1951)\n",
      "Directed by: John Huston\n",
      "Starring: Humphrey Bogart, Katharine Hepburn, Robert Morley, Peter Bull\n",
      "Plot: In Africa during WWI, a gin-swilling riverboat captain is persuaded by a strait-laced missionary to use his boat to attack an enemy warship.\n",
      "\n"
     ]
    }
   ],
   "source": [
    "for movie in movies:\n",
    "    print(\"%s (%s)\"%(movie[\"Title\"],movie[\"Year\"]))\n",
    "    print(\"Directed by: %s\"%(movie[\"Director\"]))\n",
    "    print(\"Starring: %s\"%(movie[\"Actors\"]))\n",
    "    print(\"Plot: %s\"%(movie[\"Plot\"]))\n",
    "    print"
   ]
  },
  {
   "cell_type": "code",
   "execution_count": 16,
   "metadata": {
    "collapsed": true
   },
   "outputs": [],
   "source": [
    "tree = et.ElementTree(file='data/movies.xml')\n",
    "root = tree.getroot()"
   ]
  },
  {
   "cell_type": "code",
   "execution_count": null,
   "metadata": {
    "collapsed": true
   },
   "outputs": [],
   "source": []
  },
  {
   "cell_type": "code",
   "execution_count": null,
   "metadata": {
    "collapsed": true
   },
   "outputs": [],
   "source": []
  },
  {
   "cell_type": "code",
   "execution_count": null,
   "metadata": {
    "collapsed": true
   },
   "outputs": [],
   "source": []
  },
  {
   "cell_type": "code",
   "execution_count": null,
   "metadata": {
    "collapsed": true
   },
   "outputs": [],
   "source": []
  }
 ],
 "metadata": {
  "anaconda-cloud": {},
  "kernelspec": {
   "display_name": "Python [conda root]",
   "language": "python",
   "name": "conda-root-py"
  },
  "language_info": {
   "codemirror_mode": {
    "name": "ipython",
    "version": 2
   },
   "file_extension": ".py",
   "mimetype": "text/x-python",
   "name": "python",
   "nbconvert_exporter": "python",
   "pygments_lexer": "ipython2",
   "version": "2.7.12"
  }
 },
 "nbformat": 4,
 "nbformat_minor": 0
}
